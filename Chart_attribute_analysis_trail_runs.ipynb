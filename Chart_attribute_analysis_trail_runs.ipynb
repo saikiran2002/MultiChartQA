{
 "cells": [
  {
   "cell_type": "markdown",
   "metadata": {},
   "source": [
    "Prompt Engineering:\n",
    "\n",
    "1. Give a persona\n",
    "2. Split complex tasks into small tasks\n",
    "3. Give it in steps and make sure to keep further steps or describe the context.\n",
    "4. Give models time to think:\n",
    "    Example: First work out your own solution to the problem. Then compare your solution\n",
    "    "
   ]
  },
  {
   "cell_type": "code",
   "execution_count": 1,
   "metadata": {},
   "outputs": [],
   "source": [
    "import base64\n",
    "import pandas as pd\n",
    "\n",
    "df = pd.read_excel(\"ChartswithCaptions.xlsx\")\n",
    "\n",
    "def encode_image(image_path):\n",
    "\n",
    "    caption = df[df[\"imageid\"]==int(image_path.split(\"/\")[1].split(\".\")[0])][\"full_caption\"].values[0]\n",
    "\n",
    "    with open(image_path, \"rb\") as image_file:\n",
    "        return base64.b64encode(image_file.read()).decode(\"utf-8\"), caption\n",
    "    \n",
    "\n",
    "# image_2130, caption_2130 = encode_image(\"Charts/2130.png\")\n",
    "# image_2107, caption_2107 = encode_image(\"Charts/2107.png\")\n",
    "image_2065, caption_2065 = encode_image(\"Charts/26.png\")"
   ]
  },
  {
   "cell_type": "code",
   "execution_count": 2,
   "metadata": {},
   "outputs": [
    {
     "data": {
      "text/plain": [
       "'Figure 8.19: Average GDP and CO2 reductions in 550ppmv stabilization scenarios: year 2050 (labels identify different scenario\\ngroups).'"
      ]
     },
     "execution_count": 2,
     "metadata": {},
     "output_type": "execute_result"
    }
   ],
   "source": [
    "caption_2065"
   ]
  },
  {
   "cell_type": "markdown",
   "metadata": {},
   "source": [
    "# Chart Analysis GPT"
   ]
  },
  {
   "cell_type": "code",
   "execution_count": 3,
   "metadata": {},
   "outputs": [],
   "source": [
    "system_prompt = \"\"\"\n",
    "You are GPT-4o-mini, a reasoning model specialized in analyzing charts and their captions. Your task is to carefully examine the provided chart and caption, then clearly identify and list the attributes used in the chart.\n",
    "\n",
    "When presented with a chart and its caption:\n",
    "    1. Carefully inspect the chart provided.\n",
    "    2. **Let's think step-by-step.** First, carefully inspect the provided chart and caption. Identify and list all attributes used in the chart. \n",
    "    3. **Briefly explain** how each attribute is represented or visualized in the chart (e.g., axis labels, legends, colors, data points).\n",
    "    4. **Clearly separate** your response into two sections:\n",
    "        a. \"**Identified Attributes:**\" (list attributes succinctly)\n",
    "        b. \"**Visualization Explanation:**\" (briefly describe how each attribute is visualized)\n",
    "    5. **Clearly summarize** the specific chart variables used (e.g., x-axis, y-axis, legend, color encoding) separately at the end of your response.\n",
    "\n",
    "Important instructions for optimal performance:\n",
    "\n",
    "1. Be concise and direct in your analysis.\n",
    "2. Do not include unnecessary examples or additional context beyond what is provided.\n",
    "3. Do not generate or assume any information not explicitly present in the provided chart and caption.\n",
    "4. Leverage your internal chain-of-thought reasoning capability without explicit prompting for step-by-step reasoning.\n",
    "5. Ensure your output is accurate, consistent, and directly based on the provided data only.\n",
    "\"\"\""
   ]
  },
  {
   "cell_type": "code",
   "execution_count": 4,
   "metadata": {},
   "outputs": [],
   "source": [
    "from openai import OpenAI\n",
    "import os\n",
    "\n",
    "client = OpenAI(api_key=os.environ[\"OPENAI_API_KEY\"])\n",
    "\n",
    "response = client.chat.completions.create(\n",
    "    model=\"gpt-4o-mini\",\n",
    "    messages=[\n",
    "        {\"role\": \"system\", \"content\": system_prompt},\n",
    "        {\n",
    "            \"role\": \"user\",\n",
    "            \"content\": [\n",
    "                {\"type\": \"text\", \"text\": f\"Here is the caption for the image: {caption_2065}\"},\n",
    "                {\n",
    "                    \"type\": \"image_url\",\n",
    "                    \"image_url\": {\n",
    "                        \"url\": f\"data:image/png;base64,{image_2065}\"\n",
    "                    }\n",
    "                }\n",
    "            ],\n",
    "        }\n",
    "    ]\n",
    ")\n",
    "chart_2065 = response.choices[0].message.content"
   ]
  },
  {
   "cell_type": "code",
   "execution_count": 5,
   "metadata": {},
   "outputs": [
    {
     "name": "stdout",
     "output_type": "stream",
     "text": [
      "### Identified Attributes:\n",
      "1. **X-axis**: % of baseline CO2\n",
      "2. **Y-axis**: % of baseline GDP\n",
      "3. **Data Points**: Labels for different scenario groups (A1T, B1, A2, A1, B2, A1F1)\n",
      "4. **Color**: All data points are represented in a dark purple color.\n",
      "\n",
      "### Visualization Explanation:\n",
      "1. **X-axis**: Represents the percentage of baseline CO2, ranging from 0 to 60%, providing a scale for CO2 reductions.\n",
      "2. **Y-axis**: Represents the percentage of baseline GDP, ranging from 0 to 2%, indicating the impact on GDP.\n",
      "3. **Data Points**: Each point is labeled with a scenario identifier (A1T, B1, etc.), showing the relationship between GDP and CO2 reductions for various scenarios.\n",
      "4. **Color**: Data points are uniformly presented in dark purple, which distinctively marks them against the light background.\n",
      "\n",
      "### Summary of Specific Chart Variables:\n",
      "- **X-axis**: % of baseline CO2\n",
      "- **Y-axis**: % of baseline GDP\n",
      "- **Legend**: Scenario identifiers (A1T, B1, A2, A1, B2, A1F1)\n",
      "- **Color Encoding**: Dark purple for data points.\n"
     ]
    }
   ],
   "source": [
    "print(chart_2065)"
   ]
  },
  {
   "cell_type": "code",
   "execution_count": 6,
   "metadata": {},
   "outputs": [],
   "source": [
    "image_2064, caption_2064 = encode_image(\"Charts/418.png\")\n",
    "response = client.chat.completions.create(\n",
    "    model=\"gpt-4o-mini\",\n",
    "    messages=[\n",
    "        {\"role\": \"system\", \"content\": system_prompt},\n",
    "        {\n",
    "            \"role\": \"user\",\n",
    "            \"content\": [\n",
    "                {\"type\": \"text\", \"text\": f\"Here is the caption for the image: {caption_2064}\"},\n",
    "                {\n",
    "                    \"type\": \"image_url\",\n",
    "                    \"image_url\": {\n",
    "                        \"url\": f\"data:image/png;base64,{image_2064}\"\n",
    "                    }\n",
    "                }\n",
    "            ],\n",
    "        }\n",
    "    ]\n",
    ")\n",
    "chart_2064 = response.choices[0].message.content"
   ]
  },
  {
   "cell_type": "code",
   "execution_count": 7,
   "metadata": {},
   "outputs": [
    {
     "name": "stdout",
     "output_type": "stream",
     "text": [
      "**Identified Attributes:**\n",
      "\n",
      "1. **Y-Axis:** Percentage reduction relative to baseline\n",
      "2. **X-Axis:** Eventual CO2 stabilization level (ppm)\n",
      "3. **Bars (Categories):** Different scenarios (A1B, A1T, A1FI, A2, B1, B2)\n",
      "4. **Bar Colors:** Distinct colors representing each scenario\n",
      "5. **Grid Lines:** Indicators for percentage values\n",
      "6. **Caption/Title:** Describes the chart's focus (global average GDP reduction in 2050)\n",
      "\n",
      "**Visualization Explanation:**\n",
      "\n",
      "1. **Y-Axis:** Displays the percentage reduction in GDP, ranging from 0 to 4.5%, with appropriate increments marked.\n",
      "2. **X-Axis:** Categorizes different CO2 stabilization levels (450, 550, 650, 750 ppm) along the horizontal dimension.\n",
      "3. **Bars (Categories):** Each bar represents a scenario's projected GDP reduction for corresponding stabilization levels.\n",
      "4. **Bar Colors:** Different colors are used for each scenario, providing a clear visual distinction between various potential outcomes.\n",
      "5. **Grid Lines:** Help facilitate the reading of percentage values corresponding to each bar.\n",
      "6. **Caption/Title:** Clearly articulates the subject of the chart, indicating the context and year of the data.\n",
      "\n",
      "**Chart Variables Summary:**\n",
      "\n",
      "- **X-Axis:** Eventual CO2 stabilization level (ppm)\n",
      "- **Y-Axis:** Percentage reduction relative to baseline\n",
      "- **Legend:** Different scenarios (A1B, A1T, A1FI, A2, B1, B2) represented by colors\n",
      "- **Bar Representation:** Each bar’s height indicates the percentage GDP reduction for a given scenario at specified CO2 levels\n"
     ]
    }
   ],
   "source": [
    "print(chart_2064)"
   ]
  },
  {
   "cell_type": "markdown",
   "metadata": {},
   "source": [
    "# Bridging GPT"
   ]
  },
  {
   "cell_type": "code",
   "execution_count": 8,
   "metadata": {},
   "outputs": [],
   "source": [
    "bridging_gpt_system_prompt = \"\"\"\n",
    "You are a Bridging GPT responsible for generating meaningful questions based on synthesized attributes from two charts.\n",
    "\n",
    "Given the attributes of Chart A and Chart B, \n",
    "Both the charts contain \"Identified Attributes\", \"Visualization Explanation\", and \"Summary of Chart Variables\"\n",
    "\n",
    "1. Analyze the relationships between the attributes of Chart A and Chart B.\n",
    "2. Generate insightful questions and also answers for them that explore:\n",
    "   - Comparisons between the two charts.\n",
    "   - Trends, patterns, or correlations suggested by their attributes.\n",
    "   - Real-world implications or hypotheses based on their common attributes (if applicable).\n",
    "\n",
    "Structure your response as follows:\n",
    "\n",
    "## Generated Questions and Answers:\n",
    "- [List meaningful questions here]\n",
    "- [List corresponding answers here]\n",
    "\n",
    "Be creative, logical, and ensure that your questions are relevant to the provided attributes and their relationships.\n",
    "\"\"\""
   ]
  },
  {
   "cell_type": "code",
   "execution_count": 9,
   "metadata": {},
   "outputs": [
    {
     "name": "stdout",
     "output_type": "stream",
     "text": [
      "## Generated Questions and Answers:\n",
      "\n",
      "1. **Question:** How do the CO2 stabilization levels represented in Chart A (450, 550, 650, 750 ppm) compare in terms of GDP reduction with the percentage of baseline CO2 in Chart B?\n",
      "   - **Answer:** Chart A directly correlates different stabilization levels with their respective GDP reductions, while Chart B illustrates the impact of various percentage reductions from the baseline CO2 on GDP. As the stabilization levels in Chart A increase (e.g., from 450 to 750 ppm), it can be inferred that the GDP reduction percentage may also vary, indicating that higher stabilization levels might lead to different economic impacts. However, without cross-analyzing exact values, specific numerical comparisons cannot be made.\n",
      "\n",
      "2. **Question:** What trends can be observed in GDP reductions as the CO2 stabilization level increases in Chart A, and how does this relate to the data points within Chart B?\n",
      "   - **Answer:** As CO2 stabilization levels increase in Chart A, it is expected that a trend of increasing GDP reductions can be observed up to a certain point. For instance, scenarios with higher CO2 stabilization levels (like 750 ppm) may demonstrate a larger percentage GDP reduction. This trend may mirror the data points in Chart B, where greater reductions in baseline CO2 percentages could relate to larger GDP impacts, suggesting a reciprocal relationship where higher CO2 emissions correlate with greater economic losses.\n",
      "\n",
      "3. **Question:** Are there any correlations between the scenario identifiers in both charts, and what might this imply for policy-making?\n",
      "   - **Answer:** The scenario identifiers (A1B, A1T, A1FI, A2, B1, B2) noted in Chart A also appear in Chart B, allowing for correlations to be drawn. A consistent pattern where scenarios produce similar GDP reductions across both charts may indicate robust predictions that could guide policymakers in their strategies to mitigate CO2 emissions while considering economic impacts. For instance, if a certain scenario consistently shows lower GDP loss, it could advocate for specific policy actions aligning with that pathway.\n",
      "\n",
      "4. **Question:** Given that Chart A displays distinct color-coded scenarios while Chart B uses a uniform color for data points, how does this affect data interpretation?\n",
      "   - **Answer:** The color differentiation in Chart A allows for a quick visual comparison between scenarios; one can easily identify which scenario corresponds to which GDP reduction at specific stabilization levels. In contrast, the uniformity of dark purple in Chart B diminishes the ability to quickly distinguish between the different scenarios. Consequently, while Chart A provides clarity in presenting multiple scenarios, Chart B may require deeper analysis to understand scenario-specific impacts.\n",
      "\n",
      "5. **Question:** What real-world implications could arise from the GDP reduction trends observed in these charts, particularly regarding climate policy?\n",
      "   - **Answer:** The observed GDP reduction trends across various scenarios suggest that as CO2 emissions potentially stabilize, economic activity might be adversely affected, reflecting the need for proactive climate policies. Policymakers may leverage these insights to balance economic growth with environmental sustainability, guiding investment in green technologies and strategies that minimize economic impact while achieving necessary CO2 reductions. Understanding these relations could lead to a more nuanced approach to tackling climate change, recognizing that both environmental and economic priorities must be managed together.\n"
     ]
    }
   ],
   "source": [
    "response = client.chat.completions.create(\n",
    "    model=\"gpt-4o-mini\",\n",
    "    messages=[\n",
    "        {\"role\": \"system\", \"content\": bridging_gpt_system_prompt},\n",
    "        {\n",
    "            \"role\": \"user\",\n",
    "            \"content\": [\n",
    "                {\"type\": \"text\", \"text\": f\"Here is the synthesis of chart A: {chart_2064} and chart B: {chart_2065}\"}\n",
    "            ],\n",
    "        }\n",
    "    ]\n",
    ")\n",
    "print(response.choices[0].message.content)"
   ]
  },
  {
   "cell_type": "markdown",
   "metadata": {},
   "source": [
    "## Trail runs"
   ]
  },
  {
   "cell_type": "markdown",
   "metadata": {},
   "source": [
    "# Keyword extractor GPT"
   ]
  },
  {
   "cell_type": "code",
   "execution_count": 10,
   "metadata": {},
   "outputs": [],
   "source": [
    "keyword_extraction_system_prompt = \"\"\" \n",
    "You are a specialized Keyword Extraction GPT designed to distill chart analyses into semantic keywords.\n",
    "\n",
    "Your task is to analyze the provided chart description (which includes \"Identified Attributes\", \"Visualization Explanation\", and \"Summary of Chart Variables\") and extract the most significant keywords that represent:\n",
    "\n",
    "1. Core variables/attributes present in the chart\n",
    "2. Key measurement units and scales\n",
    "3. Central scientific or data concepts being visualized\n",
    "4. Important methodologies or data types\n",
    "\n",
    "Guidelines:\n",
    "- Focus on domain-specific terminology rather than generic terms\n",
    "- Include units of measurement when semantically relevant\n",
    "- Extract only terms explicitly present or strongly implied in the analysis\n",
    "- Limit to 8-12 keywords for clarity\n",
    "\n",
    "Structure your response exactly as follows:\n",
    "\n",
    "## Extracted Keywords:\n",
    "- [Keyword 1]\n",
    "- [Keyword 2]\n",
    "...\n",
    "\n",
    "Do not include any explanations or additional commentary.\n",
    "\"\"\""
   ]
  },
  {
   "cell_type": "code",
   "execution_count": 11,
   "metadata": {},
   "outputs": [
    {
     "name": "stdout",
     "output_type": "stream",
     "text": [
      "## Extracted Keywords:\n",
      "- CO2 Emissions\n",
      "- Years\n",
      "- Gt CO2\n",
      "- Electricity plants\n",
      "- Industry\n",
      "- Road transport\n",
      "- Residential sectors\n",
      "- Deforestation\n",
      "- Color-coded\n",
      "- Line graph\n",
      "- Data series\n",
      "- Timeline\n"
     ]
    }
   ],
   "source": [
    "keywords_generated_1 = client.chat.completions.create(\n",
    "    model=\"gpt-4o-mini\",\n",
    "    messages=[\n",
    "        {\"role\": \"system\", \"content\": keyword_extraction_system_prompt},\n",
    "        {\n",
    "            \"role\": \"user\",\n",
    "            \"content\": [\n",
    "                {\"type\": \"text\", \"text\": f\"Here is the Chart Analysis output for chart: {chart_2065}\"}\n",
    "            ],\n",
    "        }\n",
    "    ]\n",
    ")\n",
    "print(keywords_generated_1.choices[0].message.content)"
   ]
  },
  {
   "cell_type": "code",
   "execution_count": 11,
   "metadata": {},
   "outputs": [
    {
     "name": "stdout",
     "output_type": "stream",
     "text": [
      "## Extracted Keywords:\n",
      "- Time (Ma)\n",
      "- Atmospheric CO2 (ppm)\n",
      "- Deep Ocean Temperature (°C)\n",
      "- Ice Sheet Representation\n",
      "- CO2 Proxy Methods\n",
      "- Geochemical Models\n",
      "- Isotope Records\n",
      "- Error Representation\n",
      "- Ice Volume Representation\n",
      "\n"
     ]
    }
   ],
   "source": [
    "keywords_generated_2 = client.chat.completions.create(\n",
    "    model=\"gpt-4o-mini\",\n",
    "    messages=[\n",
    "        {\"role\": \"system\", \"content\": keyword_extraction_system_prompt},\n",
    "        {\n",
    "            \"role\": \"user\",\n",
    "            \"content\": [\n",
    "                {\"type\": \"text\", \"text\": f\"Here is the Chart Analysis output for chart: {chart_2064}\"}\n",
    "            ],\n",
    "        }\n",
    "    ]\n",
    ")\n",
    "print(keywords_generated_2.choices[0].message.content)"
   ]
  },
  {
   "cell_type": "code",
   "execution_count": 12,
   "metadata": {},
   "outputs": [],
   "source": [
    "comparison_system_prompt = \"\"\"\n",
    "You are a Comparison Agent specialized in identifying relationships between different charts based on their attributes and extracted keywords.\n",
    "\n",
    "Given two chart analyses with their extracted keywords:\n",
    "\n",
    "Chart A Keywords:\n",
    "[Keywords from Chart A]\n",
    "\n",
    "Chart B Keywords:\n",
    "[Keywords from Chart B]\n",
    "\n",
    "Perform the following analysis:\n",
    "\n",
    "1. Identify common attributes shared by both charts\n",
    "2. Identify unique attributes specific to each chart\n",
    "3. Describe potential meaningful relationships between these charts\n",
    "\n",
    "Structure your response exactly as follows:\n",
    "\n",
    "## Common Attributes:\n",
    "- [List common attributes]\n",
    "\n",
    "## Unique Attributes - Chart A:\n",
    "- [List attributes unique to Chart A]\n",
    "\n",
    "## Unique Attributes - Chart B:\n",
    "- [List attributes unique to Chart B]\n",
    "\n",
    "## Potential Relationships:\n",
    "- [Describe potential relationships between charts]\n",
    "\n",
    "Be concise, specific, and focus only on meaningful connections.\n",
    "\"\"\""
   ]
  },
  {
   "cell_type": "code",
   "execution_count": 13,
   "metadata": {},
   "outputs": [
    {
     "name": "stdout",
     "output_type": "stream",
     "text": [
      "## Common Attributes:\n",
      "- Time (as a factor in both charts)\n",
      "- Various energy/temperature representations (though specific contexts differ)\n",
      "\n",
      "## Unique Attributes - Chart A:\n",
      "- Energy Technologies \n",
      "- Coal\n",
      "- Gas\n",
      "- Oil\n",
      "- Nuclear\n",
      "- Biomass\n",
      "- Exajoules (EJ)\n",
      "- Baseline Scenarios\n",
      "- Intervention Scenarios\n",
      "- Box Plot\n",
      "- Percentiles\n",
      "\n",
      "## Unique Attributes - Chart B:\n",
      "- Atmospheric CO2 (ppm)\n",
      "- Deep Ocean Temperature (°C)\n",
      "- Ice Sheet Representation\n",
      "- CO2 Proxy Methods\n",
      "- Geochemical Models\n",
      "- Isotope Records\n",
      "- Error Representation\n",
      "- Ice Volume Representation\n",
      "\n",
      "## Potential Relationships:\n",
      "- Both charts analyze long-term changes over time, though Chart A focuses on energy technologies and their scenarios, while Chart B examines climatic and geological time scales. The energy outputs from Chart A may indirectly relate to CO2 levels in Chart B, suggesting a connection between energy consumption patterns and their impact on atmospheric conditions. Additionally, the temperature data and ice representations in Chart B could be influenced by the historical energy technologies and usage depicted in Chart A, thereby linking energy developments to climate change impacts over time.\n"
     ]
    }
   ],
   "source": [
    "comparison = client.chat.completions.create(\n",
    "    model=\"gpt-4o-mini\",\n",
    "    messages=[\n",
    "        {\"role\": \"system\", \"content\": comparison_system_prompt},\n",
    "        {\n",
    "            \"role\": \"user\",\n",
    "            \"content\": [\n",
    "                {\"type\": \"text\", \"text\": f\"Here is the keyword for Chart A: {keywords_generated_1.choices[0].message.content}, and Chart B: {keywords_generated_2.choices[0].message.content}\"},\n",
    "            ],\n",
    "        }\n",
    "    ]\n",
    ")\n",
    "print(comparison.choices[0].message.content)"
   ]
  },
  {
   "cell_type": "code",
   "execution_count": 18,
   "metadata": {},
   "outputs": [],
   "source": [
    "insight_generator = \"\"\"\n",
    "You are an expert Data Analysis GPT specialized in generating comprehensive analytical insights from multiple data visualizations.\n",
    "\n",
    "Given two chart analyses (including their identified attributes, visualization explanations, and variables), your task is to:\n",
    "\n",
    "1. Generate thoughtful questions that can ONLY be answered by analyzing both charts together\n",
    "2. Provide detailed answers to each question based on the chart analyses\n",
    "3. Explain why each question matters from an analytical perspective\n",
    "\n",
    "Your questions should:\n",
    "- Require synthesizing information across both visualizations\n",
    "- Reveal meaningful relationships, contrasts, or complementary information\n",
    "- Consider temporal, spatial, or conceptual connections between the visualizations\n",
    "- Lead to deeper insights about patterns, relationships, or contradictions\n",
    "\n",
    "Structure your response exactly as follows:\n",
    "\n",
    "## Analytical Questions and Answers:\n",
    "\n",
    "### Question 1:\n",
    "[Question that requires analyzing both charts together]\n",
    "\n",
    "#### Answer:\n",
    "[Detailed answer based on analysis of both charts]\n",
    "\n",
    "#### Why This Question Matters:\n",
    "[Explanation of the analytical significance and what insights this reveals]\n",
    "\n",
    "### Question 2:\n",
    "[Question that requires analyzing both charts together]\n",
    "\n",
    "#### Answer:\n",
    "[Detailed answer based on analysis of both charts]\n",
    "\n",
    "#### Why This Question Matters:\n",
    "[Explanation of the analytical significance and what insights this reveals]\n",
    "\n",
    "[Continue with additional questions as appropriate]\n",
    "\n",
    "Ensure each question is specific, data-focused, and genuinely requires examining both charts to answer effectively. Your answers should demonstrate cross-chart analysis and synthesis of information.\n",
    "\n",
    "\"\"\""
   ]
  },
  {
   "cell_type": "code",
   "execution_count": 19,
   "metadata": {},
   "outputs": [
    {
     "name": "stdout",
     "output_type": "stream",
     "text": [
      "## Analytical Questions and Answers:\n",
      "\n",
      "### Question 1:\n",
      "How do the predicted changes in energy technology outputs by 2100 in Chart B relate to historical CO2 levels and deep ocean temperatures in Chart A, particularly in terms of potential climate implications?\n",
      "\n",
      "#### Answer:\n",
      "Chart A shows that past atmospheric CO2 levels and deep ocean temperatures have fluctuated significantly over geological time, which were influenced by energy dynamics (like fossil fuel burning) and ice sheet levels. In contrast, Chart B models future energy outputs for various technologies (coal, gas, oil, nuclear, and biomass), projecting significant energy consumption scenarios for 2100. The connection here is twofold: if future energy outputs, particularly from fossil fuels (coal, gas, and oil), increase as projected, they are likely to push atmospheric CO2 levels higher, potentially mimicking historical changes seen in Chart A. If this increase mirrors the past spikes in CO2, similar warming trends could be expected, pressing deep ocean temperatures upwards and affecting ice volumes, as illustrated in Chart A.\n",
      "\n",
      "#### Why This Question Matters:\n",
      "This question is significant because it synthesizes historical data with future projections to evaluate the potential impact of current energy choices on climate conditions. Understanding this relationship can guide policymakers in making informed decisions to mitigate climate change, highlighting the need for shifting towards renewable energy technologies to avoid replicating past detrimental trends.\n",
      "\n",
      "### Question 2:\n",
      "What insights can be drawn regarding the variance in CO2 emission scenarios projected for 2100 in Chart B and how they compare to the baseline atmospheric CO2 levels and proxy records from Chart A?\n",
      "\n",
      "#### Answer:\n",
      "Chart A shows historical fluctuations in atmospheric CO2 levels, including peak periods that correlate with certain energy consumption events. By analyzing Chart B, particularly the error margins in the 2100 scenario for baseline and intervention conditions, we observe a range of projected emissions. If the high-emission scenarios (particularly those relying heavily on coal and oil) in Chart B are realized, they could lead atmospheric CO2 levels to reach or exceed those aforementioned peak levels from Chart A. The variance in scenarios also illustrates different paths of energy consumption: more aggressive interventions could lead to significantly lower emissions. This highlights the wide span of possible future CO2 concentrations and underscored an important insight—our immediate energy policy choices can shape future atmospheric conditions profoundly.\n",
      "\n",
      "#### Why This Question Matters:\n",
      "This inquiry highlights the contrast between baseline atmospheric conditions and potential future outcomes based on varying energy strategies. It emphasizes the impact of human intervention and regulatory measures on climate outcomes, providing a clearer view of how reducing fossil fuel reliance (as suggested by some intervention scenarios) can lead to more favorable climate trajectories as opposed to business-as-usual scenarios that can push CO2 levels to historically unprecedented extremes.\n",
      "\n",
      "### Question 3:\n",
      "How does the representation of ice volume changes in Chart A relate to energy outputs and interventions suggested in Chart B, particularly when considering potential climate tipping points?\n",
      "\n",
      "#### Answer:\n",
      "Chart A shows ice volume changes represented against atmospheric CO2 and deep ocean temperatures, indicating that as CO2 levels rise, significant shifts in ice volume threshold may occur, potentially leading to tipping points in the climate system. Chart B outlines energy outputs for 2030 and 2100 across different technologies. If the projected outputs from fossil fuel technologies become reality, we may see a corresponding rise in CO2 leading to accelerated ice melting, echoed in the historical data of Chart A. Interventions that shift energy reliance away from fossil fuels (displayed in Chart B) suggest a potential to stabilize these ice volumes or delay tipping points, while lack of intervention could lead to drastic ice volume decreases as shown in Chart A.\n",
      "\n",
      "#### Why This Question Matters:\n",
      "This question emphasizes the interdependence of energy consumption, ice volume, and broader climate system dynamics. Identifying these connections is crucial for predicting future climate behaviors and the potential onset of drastic environmental changes. Understanding how energy outputs could either mitigate or exacerbate climate shifts provides essential context for climate adaptation and mitigation strategies.\n",
      "\n",
      "### Question 4:\n",
      "Considering the proxy methods for CO2 in Chart A, what can we infer about the credibility of future energy technology scenarios portrayed in Chart B, particularly regarding their impact on atmospheric and oceanic conditions?\n",
      "\n",
      "#### Answer:\n",
      "The diverse CO2 proxy methods in Chart A enhance understanding of the historical reliability of CO2 data, serving as a critical reference for interpreting Chart B's future energy scenarios. If data from these proxies suggest particular thresholds of CO2 conducive to significant climate change, we can contextualize the projections in Chart B. For example, if current coal-based scenarios (predicted to have high outputs) lead toward critical CO2 thresholds found historically, we can infer higher risks of surpassing these thresholds in the near future. Conversely, energy technologies that favor lower CO2 outputs (like nuclear or biomass) should align with targets that remain within safer climatic boundaries, as per proxy insights.\n",
      "\n",
      "#### Why This Question Matters:\n",
      "This question engages with the reliability of data-driven predictions against established historical trends. It serves to bolster or question the projections made for future energy paths, underscoring the importance of validated historical evidence when contemplating future energy strategies. By integrating past CO2 behavior with future technology plans, this dialogue aids in forming robust climate action plans.\n"
     ]
    }
   ],
   "source": [
    "bridging_gpt = client.chat.completions.create(\n",
    "    model=\"gpt-4o-mini\",\n",
    "    messages=[\n",
    "        {\"role\": \"system\", \"content\": insight_generator},\n",
    "        {\n",
    "            \"role\": \"user\",\n",
    "            \"content\": [\n",
    "                {\"type\": \"text\", \"text\": f\"Here is the synthesis/ Chart Analysis of chart A: {chart_2064} and chart B: {chart_2065}. And here is the comparison of keywords between chart A and chart B: {comparison.choices[0].message.content}\"},\n",
    "            ],\n",
    "        }\n",
    "    ]\n",
    ")\n",
    "print(bridging_gpt.choices[0].message.content)"
   ]
  },
  {
   "cell_type": "markdown",
   "metadata": {},
   "source": [
    "## Generating Vis and caption for the summarized both captions and visualizations"
   ]
  },
  {
   "cell_type": "code",
   "execution_count": null,
   "metadata": {},
   "outputs": [],
   "source": [
    "class CombinedChartVisualizationWorkflow:\n",
    "    def __init__(self, model=\"gpt-4o-mini\", dalle_model=\"dall-e-2\"):\n",
    "        self.model = model\n",
    "        self.dalle_model = dalle_model\n",
    "        self.combined_summary_prompt = \"\"\"\n",
    "            You are a Chart Synthesis Agent specialized in creating unified summaries from multiple chart analyses. Your task is to combine analyses of two separate charts into a single coherent description that can be used to generate a new visualization.\n",
    "\n",
    "            Given the analyses of two different charts:\n",
    "\n",
    "            1. Extract the most important elements, relationships, and patterns from both charts\n",
    "            2. Identify how these elements could be meaningfully combined in a single visualization\n",
    "            3. Create a detailed description suitable for image generation\n",
    "\n",
    "            Structure your response as follows:\n",
    "\n",
    "            ## Combined Chart Description:\n",
    "            [Provide a detailed description of how the combined visualization should appear]\n",
    "\n",
    "            ## Key Elements to Visualize:\n",
    "            - [List key data elements and relationships to include]\n",
    "\n",
    "            ## Visual Structure:\n",
    "            [Describe the recommended chart type, layout, and organization]\n",
    "\n",
    "            ## Color and Style Guidance:\n",
    "            [Provide guidance on color schemes and visual emphasis]\n",
    "\n",
    "            Your description should be specific, detailed, and optimized for visualization generation.\n",
    "        \"\"\"\n",
    "        self.client = OpenAI()\n",
    "        \n",
    "    def create_combined_summary(self, analysis_a, analysis_b):\n",
    "\n",
    "        prompt = f\"\"\"\n",
    "        Chart A Analysis:\n",
    "        {analysis_a}\n",
    "\n",
    "        Chart B Analysis:\n",
    "        {analysis_b}\n",
    "\n",
    "        Create a combined summary that captures the key elements of both charts in a way \n",
    "        that could be used to generate a new visualization.\n",
    "        \"\"\"\n",
    "        \n",
    "        response = self.client.chat.completions.create(\n",
    "            model=self.model,\n",
    "            messages=[\n",
    "                {\"role\": \"system\", \"content\": self.combined_summary_prompt},\n",
    "                {\"role\": \"user\", \"content\": prompt}\n",
    "            ]\n",
    "        )\n",
    "        return response.choices[0].message.content\n",
    "    \n",
    "    def generate_visualization(self, combined_summary):\n",
    "        dalle_prompt = f\"\"\"Create a professional data visualization that combines elements \n",
    "        from two charts according to this description:\n",
    "\n",
    "        {combined_summary}\n",
    "\n",
    "        The visualization should be clean, professional, and follow data visualization \n",
    "        best practices with appropriate labels, clear organization, and a professional \n",
    "        color scheme. Create a single, cohesive chart that effectively combines \n",
    "        elements from the original charts.\"\"\"\n",
    "        \n",
    "        response = self.client.images.generate(\n",
    "            model=self.dalle_model,\n",
    "            prompt=dalle_prompt,\n",
    "            size=\"512x512\",\n",
    "            quality=\"standard\",\n",
    "            n=1\n",
    "        )\n",
    "        \n",
    "        return response.data[0].url"
   ]
  },
  {
   "cell_type": "code",
   "execution_count": null,
   "metadata": {},
   "outputs": [],
   "source": [
    "# visualization_gen = CombinedChartVisualizationWorkflow()\n",
    "# combined_summary = visualization_gen.create_combined_summary(chart_2064, chart_2065)\n",
    "# # visualization_url = visualization_gen.generate_visualization(combined_summary)\n",
    "# # print(f\"Combined Chart URL: {visualization_url}\")"
   ]
  },
  {
   "cell_type": "code",
   "execution_count": null,
   "metadata": {},
   "outputs": [],
   "source": [
    "# from IPython.display import Image\n",
    "# print(\"Printing the summary of both charts in a single chart\")\n",
    "# Image(filename='generated_image(chart-2064,2065).png') "
   ]
  },
  {
   "cell_type": "code",
   "execution_count": null,
   "metadata": {},
   "outputs": [],
   "source": [
    "# from IPython.display import Image\n",
    "# print(\"Printing the summary of both charts in a single chart (HD)\")\n",
    "# Image(filename='generated_image_hd(chart-2064,2065).png') "
   ]
  },
  {
   "cell_type": "markdown",
   "metadata": {},
   "source": [
    "### Vector Space\n",
    "- Similarity"
   ]
  },
  {
   "cell_type": "markdown",
   "metadata": {},
   "source": [
    "### Method - 1"
   ]
  },
  {
   "cell_type": "code",
   "execution_count": 3,
   "metadata": {},
   "outputs": [
    {
     "name": "stderr",
     "output_type": "stream",
     "text": [
      "/home/saikiranbattula/Documents/Multi-ChartQA/.multi_chart/lib/python3.10/site-packages/tqdm/auto.py:21: TqdmWarning: IProgress not found. Please update jupyter and ipywidgets. See https://ipywidgets.readthedocs.io/en/stable/user_install.html\n",
      "  from .autonotebook import tqdm as notebook_tqdm\n"
     ]
    }
   ],
   "source": [
    "from sentence_transformers import SentenceTransformer\n",
    "import numpy as np"
   ]
  },
  {
   "cell_type": "code",
   "execution_count": 4,
   "metadata": {},
   "outputs": [],
   "source": [
    "def calculate_utility_with_embeddings(attrs1, attrs2, agl, model_name=None, weights=None, cutoff_length=None):\n",
    "\n",
    "    attrs1_set = set(attrs1)\n",
    "    attrs2_set = set(attrs2)\n",
    "    \n",
    "    sa = attrs1_set.intersection(attrs2_set)\n",
    "    \n",
    "    sa_ratio = len(sa) / len(attrs1_set.union(attrs2_set))\n",
    "    \n",
    "    agl_set = set(agl)\n",
    "    agl_ratio = len(agl_set.intersection(sa)) / len(agl_set) if len(agl_set) > 0 else 0\n",
    "    \n",
    "    if model_name is None:\n",
    "        model = SentenceTransformer('all-MiniLM-L6-v2')\n",
    "    else:\n",
    "        model = SentenceTransformer(model_name)\n",
    "    \n",
    "    embeddings1 = model.encode(list(attrs1_set))\n",
    "    embeddings2 = model.encode(list(attrs2_set))\n",
    "    \n",
    "    similarity_matrix = np.zeros((len(embeddings1), len(embeddings2)))\n",
    "    for i in range(len(embeddings1)):\n",
    "        for j in range(len(embeddings2)):\n",
    "            similarity_matrix[i, j] = np.dot(embeddings1[i], embeddings2[j]) / (\n",
    "                np.linalg.norm(embeddings1[i]) * np.linalg.norm(embeddings2[j])\n",
    "            )\n",
    "    \n",
    "    if len(embeddings1) > 0 and len(embeddings2) > 0:\n",
    "        sim_ratio_1to2 = np.mean(np.max(similarity_matrix, axis=1))\n",
    "        sim_ratio_2to1 = np.mean(np.max(similarity_matrix, axis=0))\n",
    "        sim_ratio = (sim_ratio_1to2 + sim_ratio_2to1) / 2\n",
    "    else:\n",
    "        sim_ratio = 0\n",
    "    \n",
    "    if weights is None:\n",
    "        weights = [20, 20, 60]\n",
    "    \n",
    "    utility_score = (weights[0] * sa_ratio) + (weights[1] * agl_ratio) + (weights[2] * sim_ratio)\n",
    "    \n",
    "    return utility_score, {\n",
    "        'shared_attributes': sa,\n",
    "        'sa_ratio': sa_ratio,\n",
    "        'agl_ratio': agl_ratio,\n",
    "        'sim_ratio': sim_ratio,\n",
    "        'similarity_matrix': similarity_matrix\n",
    "    }\n"
   ]
  },
  {
   "cell_type": "code",
   "execution_count": null,
   "metadata": {},
   "outputs": [],
   "source": [
    "ChartA_attributes = [\"Time Periods\",\"Energy Technologies\",\"Coal\",\"Gas\",\"Oil\",\"Nuclear\",\"Biomass\",\"Exajoules (EJ)\",\"Baseline Scenarios\",\"Intervention Scenarios\",\"Box Plot\",\"Percentiles\"]\n",
    "ChartB_attributes = [\"Time (Ma)\",\"Atmospheric CO2 (ppm)\",\"Deep Ocean Temperature (°C)\",\"Ice Sheet Representation\",\"CO2 Proxy Methods\",\"Geochemical Models\",\"Isotope Records\",\"Error Representation\",\"Ice Volume Representation\"]\n",
    "\n",
    "# utility_score, details = calculate_utility_with_embeddings(ChartA_attributes,ChartB_attributes,agl=[\"time\",\"energy\"])"
   ]
  },
  {
   "cell_type": "code",
   "execution_count": 2,
   "metadata": {},
   "outputs": [
    {
     "name": "stderr",
     "output_type": "stream",
     "text": [
      "/home/saikiranbattula/Documents/Multi-ChartQA/.multi_chart/lib/python3.10/site-packages/tqdm/auto.py:21: TqdmWarning: IProgress not found. Please update jupyter and ipywidgets. See https://ipywidgets.readthedocs.io/en/stable/user_install.html\n",
      "  from .autonotebook import tqdm as notebook_tqdm\n"
     ]
    }
   ],
   "source": [
    "import matplotlib.pyplot as plt\n",
    "# %matplotlib inline\n",
    "words = ChartA_attributes + ChartB_attributes \n",
    "import networkx as nx\n",
    "import numpy as np\n",
    "from sentence_transformers import SentenceTransformer\n",
    "\n",
    "model = SentenceTransformer('all-MiniLM-L6-v2')\n",
    "\n",
    "embeddings = model.encode(words)\n",
    "\n",
    "similarity_matrix = np.zeros((len(words), len(words)))\n",
    "for i in range(len(words)):\n",
    "    for j in range(len(words)):\n",
    "        similarity_matrix[i][j] = np.dot(embeddings[i], embeddings[j]) / (\n",
    "            np.linalg.norm(embeddings[i]) * np.linalg.norm(embeddings[j])\n",
    "        )\n",
    "\n",
    "threshold = 0.3\n",
    "G = nx.Graph()\n",
    "for i in range(len(words)):\n",
    "    for j in range(i+1, len(words)):\n",
    "        if similarity_matrix[i][j] > threshold:\n",
    "            G.add_edge(words[i], words[j], weight=similarity_matrix[i][j])\n"
   ]
  },
  {
   "cell_type": "code",
   "execution_count": null,
   "metadata": {},
   "outputs": [
    {
     "name": "stderr",
     "output_type": "stream",
     "text": [
      "/tmp/ipykernel_33244/1617715805.py:11: UserWarning: This figure includes Axes that are not compatible with tight_layout, so results might be incorrect.\n",
      "  plt.tight_layout()\n"
     ]
    },
    {
     "data": {
      "image/png": "[encoded data removed]",
      "text/plain": [
       "<Figure size 1000x800 with 1 Axes>"
      ]
     },
     "metadata": {},
     "output_type": "display_data"
    }
   ],
   "source": [
    "import matplotlib.pyplot as plt\n",
    "\n",
    "plt.figure(figsize=(10, 8))\n",
    "pos = nx.spring_layout(G, seed=42) \n",
    "nx.draw(G, pos, with_labels=True, node_color='lightblue', \n",
    "        edge_color='gray', node_size=20, font_size=5)\n",
    "nx.draw_networkx_edge_labels(G, pos, \n",
    "                            edge_labels={(u, v): f'{d[\"weight\"]:.2f}' \n",
    "                                         for u, v, d in G.edges(data=True)})\n",
    "plt.tight_layout()\n",
    "plt.show()"
   ]
  },
  {
   "cell_type": "code",
   "execution_count": null,
   "metadata": {},
   "outputs": [
    {
     "data": {
      "image/png": "[encoded data removed]",
      "text/plain": [
       "<Figure size 1000x800 with 1 Axes>"
      ]
     },
     "metadata": {},
     "output_type": "display_data"
    }
   ],
   "source": [
    "import ipywidgets as widgets\n",
    "from IPython.display import display\n",
    "%matplotlib inline\n",
    "\n",
    "# Create the initial static plot\n",
    "fig, ax = plt.subplots(figsize=(10, 8))\n",
    "pos = nx.spring_layout(G, seed=42)\n",
    "nx.draw(G, pos, with_labels=True, node_color='lightblue', \n",
    "        edge_color='gray', node_size=20, font_size=5, ax=ax)\n",
    "\n",
    "# Create a function to update the plot\n",
    "def update_zoom(zoom):\n",
    "    ax.clear()\n",
    "    # Scale the node sizes and font sizes\n",
    "    node_size = 20 * zoom\n",
    "    font_size = 5 * zoom\n",
    "    nx.draw(G, pos, with_labels=True, node_color='lightblue', \n",
    "            edge_color='gray', node_size=node_size, font_size=font_size, ax=ax)\n",
    "    fig.canvas.draw_idle()\n",
    "\n",
    "# Create a slider widget\n",
    "zoom_slider = widgets.FloatSlider(\n",
    "    value=1.0,\n",
    "    min=0.1,\n",
    "    max=2.0,\n",
    "    step=0.1,\n",
    "    description='Zoom:',\n",
    "    continuous_update=False\n",
    ")\n",
    "\n",
    "# Connect the slider to the update function\n",
    "widgets.interactive(update_zoom, zoom=zoom_slider)\n",
    "plt.show()"
   ]
  },
  {
   "cell_type": "code",
   "execution_count": null,
   "metadata": {},
   "outputs": [
    {
     "ename": "ValueError",
     "evalue": "Invalid property specified for object of type plotly.graph_objs.Layout: 'titlefont'\n\nDid you mean \"title\"?\n\n    Valid properties:\n        activeselection\n            :class:`plotly.graph_objects.layout.Activeselection`\n            instance or dict with compatible properties\n        activeshape\n            :class:`plotly.graph_objects.layout.Activeshape`\n            instance or dict with compatible properties\n        annotations\n            A tuple of\n            :class:`plotly.graph_objects.layout.Annotation`\n            instances or dicts with compatible properties\n        annotationdefaults\n            When used in a template (as\n            layout.template.layout.annotationdefaults), sets the\n            default property values to use for elements of\n            layout.annotations\n        autosize\n            Determines whether or not a layout width or height that\n            has been left undefined by the user is initialized on\n            each relayout. Note that, regardless of this attribute,\n            an undefined layout width or height is always\n            initialized on the first call to plot.\n        autotypenumbers\n            Using \"strict\" a numeric string in trace data is not\n            converted to a number. Using *convert types* a numeric\n            string in trace data may be treated as a number during\n            automatic axis `type` detection. This is the default\n            value; however it could be overridden for individual\n            axes.\n        barcornerradius\n            Sets the rounding of bar corners. May be an integer\n            number of pixels, or a percentage of bar width (as a\n            string ending in %).\n        bargap\n            Sets the gap (in plot fraction) between bars of\n            adjacent location coordinates.\n        bargroupgap\n            Sets the gap (in plot fraction) between bars of the\n            same location coordinate.\n        barmode\n            Determines how bars at the same location coordinate are\n            displayed on the graph. With \"stack\", the bars are\n            stacked on top of one another With \"relative\", the bars\n            are stacked on top of one another, with negative values\n            below the axis, positive values above With \"group\", the\n            bars are plotted next to one another centered around\n            the shared location. With \"overlay\", the bars are\n            plotted over one another, you might need to reduce\n            \"opacity\" to see multiple bars.\n        barnorm\n            Sets the normalization for bar traces on the graph.\n            With \"fraction\", the value of each bar is divided by\n            the sum of all values at that location coordinate.\n            \"percent\" is the same but multiplied by 100 to show\n            percentages.\n        boxgap\n            Sets the gap (in plot fraction) between boxes of\n            adjacent location coordinates. Has no effect on traces\n            that have \"width\" set.\n        boxgroupgap\n            Sets the gap (in plot fraction) between boxes of the\n            same location coordinate. Has no effect on traces that\n            have \"width\" set.\n        boxmode\n            Determines how boxes at the same location coordinate\n            are displayed on the graph. If \"group\", the boxes are\n            plotted next to one another centered around the shared\n            location. If \"overlay\", the boxes are plotted over one\n            another, you might need to set \"opacity\" to see them\n            multiple boxes. Has no effect on traces that have\n            \"width\" set.\n        calendar\n            Sets the default calendar system to use for\n            interpreting and displaying dates throughout the plot.\n        clickmode\n            Determines the mode of single click interactions.\n            \"event\" is the default value and emits the\n            `plotly_click` event. In addition this mode emits the\n            `plotly_selected` event in drag modes \"lasso\" and\n            \"select\", but with no event data attached (kept for\n            compatibility reasons). The \"select\" flag enables\n            selecting single data points via click. This mode also\n            supports persistent selections, meaning that pressing\n            Shift while clicking, adds to / subtracts from an\n            existing selection. \"select\" with `hovermode`: \"x\" can\n            be confusing, consider explicitly setting `hovermode`:\n            \"closest\" when using this feature. Selection events are\n            sent accordingly as long as \"event\" flag is set as\n            well. When the \"event\" flag is missing, `plotly_click`\n            and `plotly_selected` events are not fired.\n        coloraxis\n            :class:`plotly.graph_objects.layout.Coloraxis` instance\n            or dict with compatible properties\n        colorscale\n            :class:`plotly.graph_objects.layout.Colorscale`\n            instance or dict with compatible properties\n        colorway\n            Sets the default trace colors.\n        computed\n            Placeholder for exporting automargin-impacting values\n            namely `margin.t`, `margin.b`, `margin.l` and\n            `margin.r` in \"full-json\" mode.\n        datarevision\n            If provided, a changed value tells `Plotly.react` that\n            one or more data arrays has changed. This way you can\n            modify arrays in-place rather than making a complete\n            new copy for an incremental change. If NOT provided,\n            `Plotly.react` assumes that data arrays are being\n            treated as immutable, thus any data array with a\n            different identity from its predecessor contains new\n            data.\n        dragmode\n            Determines the mode of drag interactions. \"select\" and\n            \"lasso\" apply only to scatter traces with markers or\n            text. \"orbit\" and \"turntable\" apply only to 3D scenes.\n        editrevision\n            Controls persistence of user-driven changes in\n            `editable: true` configuration, other than trace names\n            and axis titles. Defaults to `layout.uirevision`.\n        extendfunnelareacolors\n            If `true`, the funnelarea slice colors (whether given\n            by `funnelareacolorway` or inherited from `colorway`)\n            will be extended to three times its original length by\n            first repeating every color 20% lighter then each color\n            20% darker. This is intended to reduce the likelihood\n            of reusing the same color when you have many slices,\n            but you can set `false` to disable. Colors provided in\n            the trace, using `marker.colors`, are never extended.\n        extendiciclecolors\n            If `true`, the icicle slice colors (whether given by\n            `iciclecolorway` or inherited from `colorway`) will be\n            extended to three times its original length by first\n            repeating every color 20% lighter then each color 20%\n            darker. This is intended to reduce the likelihood of\n            reusing the same color when you have many slices, but\n            you can set `false` to disable. Colors provided in the\n            trace, using `marker.colors`, are never extended.\n        extendpiecolors\n            If `true`, the pie slice colors (whether given by\n            `piecolorway` or inherited from `colorway`) will be\n            extended to three times its original length by first\n            repeating every color 20% lighter then each color 20%\n            darker. This is intended to reduce the likelihood of\n            reusing the same color when you have many slices, but\n            you can set `false` to disable. Colors provided in the\n            trace, using `marker.colors`, are never extended.\n        extendsunburstcolors\n            If `true`, the sunburst slice colors (whether given by\n            `sunburstcolorway` or inherited from `colorway`) will\n            be extended to three times its original length by first\n            repeating every color 20% lighter then each color 20%\n            darker. This is intended to reduce the likelihood of\n            reusing the same color when you have many slices, but\n            you can set `false` to disable. Colors provided in the\n            trace, using `marker.colors`, are never extended.\n        extendtreemapcolors\n            If `true`, the treemap slice colors (whether given by\n            `treemapcolorway` or inherited from `colorway`) will be\n            extended to three times its original length by first\n            repeating every color 20% lighter then each color 20%\n            darker. This is intended to reduce the likelihood of\n            reusing the same color when you have many slices, but\n            you can set `false` to disable. Colors provided in the\n            trace, using `marker.colors`, are never extended.\n        font\n            Sets the global font. Note that fonts used in traces\n            and other layout components inherit from the global\n            font.\n        funnelareacolorway\n            Sets the default funnelarea slice colors. Defaults to\n            the main `colorway` used for trace colors. If you\n            specify a new list here it can still be extended with\n            lighter and darker colors, see\n            `extendfunnelareacolors`.\n        funnelgap\n            Sets the gap (in plot fraction) between bars of\n            adjacent location coordinates.\n        funnelgroupgap\n            Sets the gap (in plot fraction) between bars of the\n            same location coordinate.\n        funnelmode\n            Determines how bars at the same location coordinate are\n            displayed on the graph. With \"stack\", the bars are\n            stacked on top of one another With \"group\", the bars\n            are plotted next to one another centered around the\n            shared location. With \"overlay\", the bars are plotted\n            over one another, you might need to reduce \"opacity\" to\n            see multiple bars.\n        geo\n            :class:`plotly.graph_objects.layout.Geo` instance or\n            dict with compatible properties\n        grid\n            :class:`plotly.graph_objects.layout.Grid` instance or\n            dict with compatible properties\n        height\n            Sets the plot's height (in px).\n        hiddenlabels\n            hiddenlabels is the funnelarea & pie chart analog of\n            visible:'legendonly' but it can contain many labels,\n            and can simultaneously hide slices from several\n            pies/funnelarea charts\n        hiddenlabelssrc\n            Sets the source reference on Chart Studio Cloud for\n            `hiddenlabels`.\n        hidesources\n            Determines whether or not a text link citing the data\n            source is placed at the bottom-right cored of the\n            figure. Has only an effect only on graphs that have\n            been generated via forked graphs from the Chart Studio\n            Cloud (at https://chart-studio.plotly.com or on-\n            premise).\n        hoverdistance\n            Sets the default distance (in pixels) to look for data\n            to add hover labels (-1 means no cutoff, 0 means no\n            looking for data). This is only a real distance for\n            hovering on point-like objects, like scatter points.\n            For area-like objects (bars, scatter fills, etc)\n            hovering is on inside the area and off outside, but\n            these objects will not supersede hover on point-like\n            objects in case of conflict.\n        hoverlabel\n            :class:`plotly.graph_objects.layout.Hoverlabel`\n            instance or dict with compatible properties\n        hovermode\n            Determines the mode of hover interactions. If\n            \"closest\", a single hoverlabel will appear for the\n            \"closest\" point within the `hoverdistance`. If \"x\" (or\n            \"y\"), multiple hoverlabels will appear for multiple\n            points at the \"closest\" x- (or y-) coordinate within\n            the `hoverdistance`, with the caveat that no more than\n            one hoverlabel will appear per trace. If *x unified*\n            (or *y unified*), a single hoverlabel will appear\n            multiple points at the closest x- (or y-) coordinate\n            within the `hoverdistance` with the caveat that no more\n            than one hoverlabel will appear per trace. In this\n            mode, spikelines are enabled by default perpendicular\n            to the specified axis. If false, hover interactions are\n            disabled.\n        hoversubplots\n            Determines expansion of hover effects to other subplots\n            If \"single\" just the axis pair of the primary point is\n            included without overlaying subplots. If \"overlaying\"\n            all subplots using the main axis and occupying the same\n            space are included. If \"axis\", also include stacked\n            subplots using the same axis when `hovermode` is set to\n            \"x\", *x unified*, \"y\" or *y unified*.\n        iciclecolorway\n            Sets the default icicle slice colors. Defaults to the\n            main `colorway` used for trace colors. If you specify a\n            new list here it can still be extended with lighter and\n            darker colors, see `extendiciclecolors`.\n        images\n            A tuple of :class:`plotly.graph_objects.layout.Image`\n            instances or dicts with compatible properties\n        imagedefaults\n            When used in a template (as\n            layout.template.layout.imagedefaults), sets the default\n            property values to use for elements of layout.images\n        legend\n            :class:`plotly.graph_objects.layout.Legend` instance or\n            dict with compatible properties\n        map\n            :class:`plotly.graph_objects.layout.Map` instance or\n            dict with compatible properties\n        mapbox\n            :class:`plotly.graph_objects.layout.Mapbox` instance or\n            dict with compatible properties\n        margin\n            :class:`plotly.graph_objects.layout.Margin` instance or\n            dict with compatible properties\n        meta\n            Assigns extra meta information that can be used in\n            various `text` attributes. Attributes such as the\n            graph, axis and colorbar `title.text`, annotation\n            `text` `trace.name` in legend items, `rangeselector`,\n            `updatemenus` and `sliders` `label` text all support\n            `meta`. One can access `meta` fields using template\n            strings: `%{meta[i]}` where `i` is the index of the\n            `meta` item in question. `meta` can also be an object\n            for example `{key: value}` which can be accessed\n            %{meta[key]}.\n        metasrc\n            Sets the source reference on Chart Studio Cloud for\n            `meta`.\n        minreducedheight\n            Minimum height of the plot with margin.automargin\n            applied (in px)\n        minreducedwidth\n            Minimum width of the plot with margin.automargin\n            applied (in px)\n        modebar\n            :class:`plotly.graph_objects.layout.Modebar` instance\n            or dict with compatible properties\n        newselection\n            :class:`plotly.graph_objects.layout.Newselection`\n            instance or dict with compatible properties\n        newshape\n            :class:`plotly.graph_objects.layout.Newshape` instance\n            or dict with compatible properties\n        paper_bgcolor\n            Sets the background color of the paper where the graph\n            is drawn.\n        piecolorway\n            Sets the default pie slice colors. Defaults to the main\n            `colorway` used for trace colors. If you specify a new\n            list here it can still be extended with lighter and\n            darker colors, see `extendpiecolors`.\n        plot_bgcolor\n            Sets the background color of the plotting area in-\n            between x and y axes.\n        polar\n            :class:`plotly.graph_objects.layout.Polar` instance or\n            dict with compatible properties\n        scattergap\n            Sets the gap (in plot fraction) between scatter points\n            of adjacent location coordinates. Defaults to `bargap`.\n        scattermode\n            Determines how scatter points at the same location\n            coordinate are displayed on the graph. With \"group\",\n            the scatter points are plotted next to one another\n            centered around the shared location. With \"overlay\",\n            the scatter points are plotted over one another, you\n            might need to reduce \"opacity\" to see multiple scatter\n            points.\n        scene\n            :class:`plotly.graph_objects.layout.Scene` instance or\n            dict with compatible properties\n        selectdirection\n            When `dragmode` is set to \"select\", this limits the\n            selection of the drag to horizontal, vertical or\n            diagonal. \"h\" only allows horizontal selection, \"v\"\n            only vertical, \"d\" only diagonal and \"any\" sets no\n            limit.\n        selectionrevision\n            Controls persistence of user-driven changes in selected\n            points from all traces.\n        selections\n            A tuple of\n            :class:`plotly.graph_objects.layout.Selection`\n            instances or dicts with compatible properties\n        selectiondefaults\n            When used in a template (as\n            layout.template.layout.selectiondefaults), sets the\n            default property values to use for elements of\n            layout.selections\n        separators\n            Sets the decimal and thousand separators. For example,\n            *. * puts a '.' before decimals and a space between\n            thousands. In English locales, dflt is \".,\" but other\n            locales may alter this default.\n        shapes\n            A tuple of :class:`plotly.graph_objects.layout.Shape`\n            instances or dicts with compatible properties\n        shapedefaults\n            When used in a template (as\n            layout.template.layout.shapedefaults), sets the default\n            property values to use for elements of layout.shapes\n        showlegend\n            Determines whether or not a legend is drawn. Default is\n            `true` if there is a trace to show and any of these: a)\n            Two or more traces would by default be shown in the\n            legend. b) One pie trace is shown in the legend. c) One\n            trace is explicitly given with `showlegend: true`.\n        sliders\n            A tuple of :class:`plotly.graph_objects.layout.Slider`\n            instances or dicts with compatible properties\n        sliderdefaults\n            When used in a template (as\n            layout.template.layout.sliderdefaults), sets the\n            default property values to use for elements of\n            layout.sliders\n        smith\n            :class:`plotly.graph_objects.layout.Smith` instance or\n            dict with compatible properties\n        spikedistance\n            Sets the default distance (in pixels) to look for data\n            to draw spikelines to (-1 means no cutoff, 0 means no\n            looking for data). As with hoverdistance, distance does\n            not apply to area-like objects. In addition, some\n            objects can be hovered on but will not generate\n            spikelines, such as scatter fills.\n        sunburstcolorway\n            Sets the default sunburst slice colors. Defaults to the\n            main `colorway` used for trace colors. If you specify a\n            new list here it can still be extended with lighter and\n            darker colors, see `extendsunburstcolors`.\n        template\n            Default attributes to be applied to the plot. This\n            should be a dict with format: `{'layout':\n            layoutTemplate, 'data': {trace_type: [traceTemplate,\n            ...], ...}}` where `layoutTemplate` is a dict matching\n            the structure of `figure.layout` and `traceTemplate` is\n            a dict matching the structure of the trace with type\n            `trace_type` (e.g. 'scatter'). Alternatively, this may\n            be specified as an instance of\n            plotly.graph_objs.layout.Template.  Trace templates are\n            applied cyclically to traces of each type. Container\n            arrays (eg `annotations`) have special handling: An\n            object ending in `defaults` (eg `annotationdefaults`)\n            is applied to each array item. But if an item has a\n            `templateitemname` key we look in the template array\n            for an item with matching `name` and apply that\n            instead. If no matching `name` is found we mark the\n            item invisible. Any named template item not referenced\n            is appended to the end of the array, so this can be\n            used to add a watermark annotation or a logo image, for\n            example. To omit one of these items on the plot, make\n            an item with matching `templateitemname` and `visible:\n            false`.\n        ternary\n            :class:`plotly.graph_objects.layout.Ternary` instance\n            or dict with compatible properties\n        title\n            :class:`plotly.graph_objects.layout.Title` instance or\n            dict with compatible properties\n        transition\n            Sets transition options used during Plotly.react\n            updates.\n        treemapcolorway\n            Sets the default treemap slice colors. Defaults to the\n            main `colorway` used for trace colors. If you specify a\n            new list here it can still be extended with lighter and\n            darker colors, see `extendtreemapcolors`.\n        uirevision\n            Used to allow user interactions with the plot to\n            persist after `Plotly.react` calls that are unaware of\n            these interactions. If `uirevision` is omitted, or if\n            it is given and it changed from the previous\n            `Plotly.react` call, the exact new figure is used. If\n            `uirevision` is truthy and did NOT change, any\n            attribute that has been affected by user interactions\n            and did not receive a different value in the new figure\n            will keep the interaction value. `layout.uirevision`\n            attribute serves as the default for `uirevision`\n            attributes in various sub-containers. For finer control\n            you can set these sub-attributes directly. For example,\n            if your app separately controls the data on the x and y\n            axes you might set `xaxis.uirevision=*time*` and\n            `yaxis.uirevision=*cost*`. Then if only the y data is\n            changed, you can update `yaxis.uirevision=*quantity*`\n            and the y axis range will reset but the x axis range\n            will retain any user-driven zoom.\n        uniformtext\n            :class:`plotly.graph_objects.layout.Uniformtext`\n            instance or dict with compatible properties\n        updatemenus\n            A tuple of\n            :class:`plotly.graph_objects.layout.Updatemenu`\n            instances or dicts with compatible properties\n        updatemenudefaults\n            When used in a template (as\n            layout.template.layout.updatemenudefaults), sets the\n            default property values to use for elements of\n            layout.updatemenus\n        violingap\n            Sets the gap (in plot fraction) between violins of\n            adjacent location coordinates. Has no effect on traces\n            that have \"width\" set.\n        violingroupgap\n            Sets the gap (in plot fraction) between violins of the\n            same location coordinate. Has no effect on traces that\n            have \"width\" set.\n        violinmode\n            Determines how violins at the same location coordinate\n            are displayed on the graph. If \"group\", the violins are\n            plotted next to one another centered around the shared\n            location. If \"overlay\", the violins are plotted over\n            one another, you might need to set \"opacity\" to see\n            them multiple violins. Has no effect on traces that\n            have \"width\" set.\n        waterfallgap\n            Sets the gap (in plot fraction) between bars of\n            adjacent location coordinates.\n        waterfallgroupgap\n            Sets the gap (in plot fraction) between bars of the\n            same location coordinate.\n        waterfallmode\n            Determines how bars at the same location coordinate are\n            displayed on the graph. With \"group\", the bars are\n            plotted next to one another centered around the shared\n            location. With \"overlay\", the bars are plotted over one\n            another, you might need to reduce \"opacity\" to see\n            multiple bars.\n        width\n            Sets the plot's width (in px).\n        xaxis\n            :class:`plotly.graph_objects.layout.XAxis` instance or\n            dict with compatible properties\n        yaxis\n            :class:`plotly.graph_objects.layout.YAxis` instance or\n            dict with compatible properties\n        \nDid you mean \"title\"?\n\nBad property path:\ntitlefont_size\n^^^^^^^^^",
     "output_type": "error",
     "traceback": [
      "\u001b[0;31m---------------------------------------------------------------------------\u001b[0m",
      "\u001b[0;31mValueError\u001b[0m                                Traceback (most recent call last)",
      "Cell \u001b[0;32mIn[9], line 62\u001b[0m\n\u001b[1;32m     59\u001b[0m     \u001b[38;5;28;01mreturn\u001b[39;00m fig\n\u001b[1;32m     61\u001b[0m \u001b[38;5;66;03m# Create and display the interactive graph\u001b[39;00m\n\u001b[0;32m---> 62\u001b[0m fig \u001b[38;5;241m=\u001b[39m \u001b[43mplot_interactive_network\u001b[49m\u001b[43m(\u001b[49m\u001b[43mG\u001b[49m\u001b[43m)\u001b[49m\n\u001b[1;32m     63\u001b[0m fig\u001b[38;5;241m.\u001b[39mshow()\n",
      "Cell \u001b[0;32mIn[9], line 49\u001b[0m, in \u001b[0;36mplot_interactive_network\u001b[0;34m(G)\u001b[0m\n\u001b[1;32m     26\u001b[0m node_trace \u001b[38;5;241m=\u001b[39m go\u001b[38;5;241m.\u001b[39mScatter(\n\u001b[1;32m     27\u001b[0m     x\u001b[38;5;241m=\u001b[39m[pos[node][\u001b[38;5;241m0\u001b[39m] \u001b[38;5;28;01mfor\u001b[39;00m node \u001b[38;5;129;01min\u001b[39;00m G\u001b[38;5;241m.\u001b[39mnodes()],\n\u001b[1;32m     28\u001b[0m     y\u001b[38;5;241m=\u001b[39m[pos[node][\u001b[38;5;241m1\u001b[39m] \u001b[38;5;28;01mfor\u001b[39;00m node \u001b[38;5;129;01min\u001b[39;00m G\u001b[38;5;241m.\u001b[39mnodes()],\n\u001b[0;32m   (...)\u001b[0m\n\u001b[1;32m     44\u001b[0m     )\n\u001b[1;32m     45\u001b[0m )\n\u001b[1;32m     47\u001b[0m \u001b[38;5;66;03m# Create the figure\u001b[39;00m\n\u001b[1;32m     48\u001b[0m fig \u001b[38;5;241m=\u001b[39m go\u001b[38;5;241m.\u001b[39mFigure(data\u001b[38;5;241m=\u001b[39medge_traces \u001b[38;5;241m+\u001b[39m [node_trace],\n\u001b[0;32m---> 49\u001b[0m                layout\u001b[38;5;241m=\u001b[39m\u001b[43mgo\u001b[49m\u001b[38;5;241;43m.\u001b[39;49m\u001b[43mLayout\u001b[49m\u001b[43m(\u001b[49m\n\u001b[1;32m     50\u001b[0m \u001b[43m                   \u001b[49m\u001b[43mtitle\u001b[49m\u001b[38;5;241;43m=\u001b[39;49m\u001b[38;5;124;43m'\u001b[39;49m\u001b[38;5;124;43mInteractive Network Graph\u001b[39;49m\u001b[38;5;124;43m'\u001b[39;49m\u001b[43m,\u001b[49m\n\u001b[1;32m     51\u001b[0m \u001b[43m                   \u001b[49m\u001b[43mtitlefont_size\u001b[49m\u001b[38;5;241;43m=\u001b[39;49m\u001b[38;5;241;43m16\u001b[39;49m\u001b[43m,\u001b[49m\n\u001b[1;32m     52\u001b[0m \u001b[43m                   \u001b[49m\u001b[43mshowlegend\u001b[49m\u001b[38;5;241;43m=\u001b[39;49m\u001b[38;5;28;43;01mFalse\u001b[39;49;00m\u001b[43m,\u001b[49m\n\u001b[1;32m     53\u001b[0m \u001b[43m                   \u001b[49m\u001b[43mhovermode\u001b[49m\u001b[38;5;241;43m=\u001b[39;49m\u001b[38;5;124;43m'\u001b[39;49m\u001b[38;5;124;43mclosest\u001b[39;49m\u001b[38;5;124;43m'\u001b[39;49m\u001b[43m,\u001b[49m\n\u001b[1;32m     54\u001b[0m \u001b[43m                   \u001b[49m\u001b[43mmargin\u001b[49m\u001b[38;5;241;43m=\u001b[39;49m\u001b[38;5;28;43mdict\u001b[39;49m\u001b[43m(\u001b[49m\u001b[43mb\u001b[49m\u001b[38;5;241;43m=\u001b[39;49m\u001b[38;5;241;43m20\u001b[39;49m\u001b[43m,\u001b[49m\u001b[43ml\u001b[49m\u001b[38;5;241;43m=\u001b[39;49m\u001b[38;5;241;43m5\u001b[39;49m\u001b[43m,\u001b[49m\u001b[43mr\u001b[49m\u001b[38;5;241;43m=\u001b[39;49m\u001b[38;5;241;43m5\u001b[39;49m\u001b[43m,\u001b[49m\u001b[43mt\u001b[49m\u001b[38;5;241;43m=\u001b[39;49m\u001b[38;5;241;43m40\u001b[39;49m\u001b[43m)\u001b[49m\u001b[43m,\u001b[49m\n\u001b[1;32m     55\u001b[0m \u001b[43m                   \u001b[49m\u001b[43mxaxis\u001b[49m\u001b[38;5;241;43m=\u001b[39;49m\u001b[38;5;28;43mdict\u001b[39;49m\u001b[43m(\u001b[49m\u001b[43mshowgrid\u001b[49m\u001b[38;5;241;43m=\u001b[39;49m\u001b[38;5;28;43;01mFalse\u001b[39;49;00m\u001b[43m,\u001b[49m\u001b[43m \u001b[49m\u001b[43mzeroline\u001b[49m\u001b[38;5;241;43m=\u001b[39;49m\u001b[38;5;28;43;01mFalse\u001b[39;49;00m\u001b[43m,\u001b[49m\u001b[43m \u001b[49m\u001b[43mshowticklabels\u001b[49m\u001b[38;5;241;43m=\u001b[39;49m\u001b[38;5;28;43;01mFalse\u001b[39;49;00m\u001b[43m)\u001b[49m\u001b[43m,\u001b[49m\n\u001b[1;32m     56\u001b[0m \u001b[43m                   \u001b[49m\u001b[43myaxis\u001b[49m\u001b[38;5;241;43m=\u001b[39;49m\u001b[38;5;28;43mdict\u001b[39;49m\u001b[43m(\u001b[49m\u001b[43mshowgrid\u001b[49m\u001b[38;5;241;43m=\u001b[39;49m\u001b[38;5;28;43;01mFalse\u001b[39;49;00m\u001b[43m,\u001b[49m\u001b[43m \u001b[49m\u001b[43mzeroline\u001b[49m\u001b[38;5;241;43m=\u001b[39;49m\u001b[38;5;28;43;01mFalse\u001b[39;49;00m\u001b[43m,\u001b[49m\u001b[43m \u001b[49m\u001b[43mshowticklabels\u001b[49m\u001b[38;5;241;43m=\u001b[39;49m\u001b[38;5;28;43;01mFalse\u001b[39;49;00m\u001b[43m)\u001b[49m\u001b[43m)\u001b[49m\n\u001b[1;32m     57\u001b[0m                )\n\u001b[1;32m     59\u001b[0m \u001b[38;5;28;01mreturn\u001b[39;00m fig\n",
      "File \u001b[0;32m~/Documents/Multi-ChartQA/.multi_chart/lib/python3.10/site-packages/plotly/graph_objs/_layout.py:7196\u001b[0m, in \u001b[0;36mLayout.__init__\u001b[0;34m(self, arg, activeselection, activeshape, annotations, annotationdefaults, autosize, autotypenumbers, barcornerradius, bargap, bargroupgap, barmode, barnorm, boxgap, boxgroupgap, boxmode, calendar, clickmode, coloraxis, colorscale, colorway, computed, datarevision, dragmode, editrevision, extendfunnelareacolors, extendiciclecolors, extendpiecolors, extendsunburstcolors, extendtreemapcolors, font, funnelareacolorway, funnelgap, funnelgroupgap, funnelmode, geo, grid, height, hiddenlabels, hiddenlabelssrc, hidesources, hoverdistance, hoverlabel, hovermode, hoversubplots, iciclecolorway, images, imagedefaults, legend, map, mapbox, margin, meta, metasrc, minreducedheight, minreducedwidth, modebar, newselection, newshape, paper_bgcolor, piecolorway, plot_bgcolor, polar, scattergap, scattermode, scene, selectdirection, selectionrevision, selections, selectiondefaults, separators, shapes, shapedefaults, showlegend, sliders, sliderdefaults, smith, spikedistance, sunburstcolorway, template, ternary, title, transition, treemapcolorway, uirevision, uniformtext, updatemenus, updatemenudefaults, violingap, violingroupgap, violinmode, waterfallgap, waterfallgroupgap, waterfallmode, width, xaxis, yaxis, **kwargs)\u001b[0m\n\u001b[1;32m   7192\u001b[0m     \u001b[38;5;28mself\u001b[39m[\u001b[38;5;124m\"\u001b[39m\u001b[38;5;124myaxis\u001b[39m\u001b[38;5;124m\"\u001b[39m] \u001b[38;5;241m=\u001b[39m _v\n\u001b[1;32m   7194\u001b[0m \u001b[38;5;66;03m# Process unknown kwargs\u001b[39;00m\n\u001b[1;32m   7195\u001b[0m \u001b[38;5;66;03m# ----------------------\u001b[39;00m\n\u001b[0;32m-> 7196\u001b[0m \u001b[38;5;28;43mself\u001b[39;49m\u001b[38;5;241;43m.\u001b[39;49m\u001b[43m_process_kwargs\u001b[49m\u001b[43m(\u001b[49m\u001b[38;5;241;43m*\u001b[39;49m\u001b[38;5;241;43m*\u001b[39;49m\u001b[38;5;28;43mdict\u001b[39;49m\u001b[43m(\u001b[49m\u001b[43marg\u001b[49m\u001b[43m,\u001b[49m\u001b[43m \u001b[49m\u001b[38;5;241;43m*\u001b[39;49m\u001b[38;5;241;43m*\u001b[39;49m\u001b[43mkwargs\u001b[49m\u001b[43m)\u001b[49m\u001b[43m)\u001b[49m\n\u001b[1;32m   7198\u001b[0m \u001b[38;5;66;03m# Reset skip_invalid\u001b[39;00m\n\u001b[1;32m   7199\u001b[0m \u001b[38;5;66;03m# ------------------\u001b[39;00m\n\u001b[1;32m   7200\u001b[0m \u001b[38;5;28mself\u001b[39m\u001b[38;5;241m.\u001b[39m_skip_invalid \u001b[38;5;241m=\u001b[39m \u001b[38;5;28;01mFalse\u001b[39;00m\n",
      "File \u001b[0;32m~/Documents/Multi-ChartQA/.multi_chart/lib/python3.10/site-packages/plotly/basedatatypes.py:5755\u001b[0m, in \u001b[0;36mBaseLayoutType._process_kwargs\u001b[0;34m(self, **kwargs)\u001b[0m\n\u001b[1;32m   5749\u001b[0m \u001b[38;5;250m\u001b[39m\u001b[38;5;124;03m\"\"\"\u001b[39;00m\n\u001b[1;32m   5750\u001b[0m \u001b[38;5;124;03mProcess any extra kwargs that are not predefined as constructor params\u001b[39;00m\n\u001b[1;32m   5751\u001b[0m \u001b[38;5;124;03m\"\"\"\u001b[39;00m\n\u001b[1;32m   5752\u001b[0m unknown_kwargs \u001b[38;5;241m=\u001b[39m {\n\u001b[1;32m   5753\u001b[0m     k: v \u001b[38;5;28;01mfor\u001b[39;00m k, v \u001b[38;5;129;01min\u001b[39;00m kwargs\u001b[38;5;241m.\u001b[39mitems() \u001b[38;5;28;01mif\u001b[39;00m \u001b[38;5;129;01mnot\u001b[39;00m \u001b[38;5;28mself\u001b[39m\u001b[38;5;241m.\u001b[39m_subplot_re_match(k)\n\u001b[1;32m   5754\u001b[0m }\n\u001b[0;32m-> 5755\u001b[0m \u001b[38;5;28;43msuper\u001b[39;49m\u001b[43m(\u001b[49m\u001b[43mBaseLayoutHierarchyType\u001b[49m\u001b[43m,\u001b[49m\u001b[43m \u001b[49m\u001b[38;5;28;43mself\u001b[39;49m\u001b[43m)\u001b[49m\u001b[38;5;241;43m.\u001b[39;49m\u001b[43m_process_kwargs\u001b[49m\u001b[43m(\u001b[49m\u001b[38;5;241;43m*\u001b[39;49m\u001b[38;5;241;43m*\u001b[39;49m\u001b[43munknown_kwargs\u001b[49m\u001b[43m)\u001b[49m\n\u001b[1;32m   5757\u001b[0m subplot_kwargs \u001b[38;5;241m=\u001b[39m {k: v \u001b[38;5;28;01mfor\u001b[39;00m k, v \u001b[38;5;129;01min\u001b[39;00m kwargs\u001b[38;5;241m.\u001b[39mitems() \u001b[38;5;28;01mif\u001b[39;00m \u001b[38;5;28mself\u001b[39m\u001b[38;5;241m.\u001b[39m_subplot_re_match(k)}\n\u001b[1;32m   5759\u001b[0m \u001b[38;5;28;01mfor\u001b[39;00m prop, value \u001b[38;5;129;01min\u001b[39;00m subplot_kwargs\u001b[38;5;241m.\u001b[39mitems():\n",
      "File \u001b[0;32m~/Documents/Multi-ChartQA/.multi_chart/lib/python3.10/site-packages/plotly/basedatatypes.py:4378\u001b[0m, in \u001b[0;36mBasePlotlyType._process_kwargs\u001b[0;34m(self, **kwargs)\u001b[0m\n\u001b[1;32m   4376\u001b[0m     \u001b[38;5;28mself\u001b[39m[k] \u001b[38;5;241m=\u001b[39m v\n\u001b[1;32m   4377\u001b[0m \u001b[38;5;28;01melif\u001b[39;00m \u001b[38;5;129;01mnot\u001b[39;00m \u001b[38;5;28mself\u001b[39m\u001b[38;5;241m.\u001b[39m_skip_invalid:\n\u001b[0;32m-> 4378\u001b[0m     \u001b[38;5;28;01mraise\u001b[39;00m err\n",
      "\u001b[0;31mValueError\u001b[0m: Invalid property specified for object of type plotly.graph_objs.Layout: 'titlefont'\n\nDid you mean \"title\"?\n\n    Valid properties:\n        activeselection\n            :class:`plotly.graph_objects.layout.Activeselection`\n            instance or dict with compatible properties\n        activeshape\n            :class:`plotly.graph_objects.layout.Activeshape`\n            instance or dict with compatible properties\n        annotations\n            A tuple of\n            :class:`plotly.graph_objects.layout.Annotation`\n            instances or dicts with compatible properties\n        annotationdefaults\n            When used in a template (as\n            layout.template.layout.annotationdefaults), sets the\n            default property values to use for elements of\n            layout.annotations\n        autosize\n            Determines whether or not a layout width or height that\n            has been left undefined by the user is initialized on\n            each relayout. Note that, regardless of this attribute,\n            an undefined layout width or height is always\n            initialized on the first call to plot.\n        autotypenumbers\n            Using \"strict\" a numeric string in trace data is not\n            converted to a number. Using *convert types* a numeric\n            string in trace data may be treated as a number during\n            automatic axis `type` detection. This is the default\n            value; however it could be overridden for individual\n            axes.\n        barcornerradius\n            Sets the rounding of bar corners. May be an integer\n            number of pixels, or a percentage of bar width (as a\n            string ending in %).\n        bargap\n            Sets the gap (in plot fraction) between bars of\n            adjacent location coordinates.\n        bargroupgap\n            Sets the gap (in plot fraction) between bars of the\n            same location coordinate.\n        barmode\n            Determines how bars at the same location coordinate are\n            displayed on the graph. With \"stack\", the bars are\n            stacked on top of one another With \"relative\", the bars\n            are stacked on top of one another, with negative values\n            below the axis, positive values above With \"group\", the\n            bars are plotted next to one another centered around\n            the shared location. With \"overlay\", the bars are\n            plotted over one another, you might need to reduce\n            \"opacity\" to see multiple bars.\n        barnorm\n            Sets the normalization for bar traces on the graph.\n            With \"fraction\", the value of each bar is divided by\n            the sum of all values at that location coordinate.\n            \"percent\" is the same but multiplied by 100 to show\n            percentages.\n        boxgap\n            Sets the gap (in plot fraction) between boxes of\n            adjacent location coordinates. Has no effect on traces\n            that have \"width\" set.\n        boxgroupgap\n            Sets the gap (in plot fraction) between boxes of the\n            same location coordinate. Has no effect on traces that\n            have \"width\" set.\n        boxmode\n            Determines how boxes at the same location coordinate\n            are displayed on the graph. If \"group\", the boxes are\n            plotted next to one another centered around the shared\n            location. If \"overlay\", the boxes are plotted over one\n            another, you might need to set \"opacity\" to see them\n            multiple boxes. Has no effect on traces that have\n            \"width\" set.\n        calendar\n            Sets the default calendar system to use for\n            interpreting and displaying dates throughout the plot.\n        clickmode\n            Determines the mode of single click interactions.\n            \"event\" is the default value and emits the\n            `plotly_click` event. In addition this mode emits the\n            `plotly_selected` event in drag modes \"lasso\" and\n            \"select\", but with no event data attached (kept for\n            compatibility reasons). The \"select\" flag enables\n            selecting single data points via click. This mode also\n            supports persistent selections, meaning that pressing\n            Shift while clicking, adds to / subtracts from an\n            existing selection. \"select\" with `hovermode`: \"x\" can\n            be confusing, consider explicitly setting `hovermode`:\n            \"closest\" when using this feature. Selection events are\n            sent accordingly as long as \"event\" flag is set as\n            well. When the \"event\" flag is missing, `plotly_click`\n            and `plotly_selected` events are not fired.\n        coloraxis\n            :class:`plotly.graph_objects.layout.Coloraxis` instance\n            or dict with compatible properties\n        colorscale\n            :class:`plotly.graph_objects.layout.Colorscale`\n            instance or dict with compatible properties\n        colorway\n            Sets the default trace colors.\n        computed\n            Placeholder for exporting automargin-impacting values\n            namely `margin.t`, `margin.b`, `margin.l` and\n            `margin.r` in \"full-json\" mode.\n        datarevision\n            If provided, a changed value tells `Plotly.react` that\n            one or more data arrays has changed. This way you can\n            modify arrays in-place rather than making a complete\n            new copy for an incremental change. If NOT provided,\n            `Plotly.react` assumes that data arrays are being\n            treated as immutable, thus any data array with a\n            different identity from its predecessor contains new\n            data.\n        dragmode\n            Determines the mode of drag interactions. \"select\" and\n            \"lasso\" apply only to scatter traces with markers or\n            text. \"orbit\" and \"turntable\" apply only to 3D scenes.\n        editrevision\n            Controls persistence of user-driven changes in\n            `editable: true` configuration, other than trace names\n            and axis titles. Defaults to `layout.uirevision`.\n        extendfunnelareacolors\n            If `true`, the funnelarea slice colors (whether given\n            by `funnelareacolorway` or inherited from `colorway`)\n            will be extended to three times its original length by\n            first repeating every color 20% lighter then each color\n            20% darker. This is intended to reduce the likelihood\n            of reusing the same color when you have many slices,\n            but you can set `false` to disable. Colors provided in\n            the trace, using `marker.colors`, are never extended.\n        extendiciclecolors\n            If `true`, the icicle slice colors (whether given by\n            `iciclecolorway` or inherited from `colorway`) will be\n            extended to three times its original length by first\n            repeating every color 20% lighter then each color 20%\n            darker. This is intended to reduce the likelihood of\n            reusing the same color when you have many slices, but\n            you can set `false` to disable. Colors provided in the\n            trace, using `marker.colors`, are never extended.\n        extendpiecolors\n            If `true`, the pie slice colors (whether given by\n            `piecolorway` or inherited from `colorway`) will be\n            extended to three times its original length by first\n            repeating every color 20% lighter then each color 20%\n            darker. This is intended to reduce the likelihood of\n            reusing the same color when you have many slices, but\n            you can set `false` to disable. Colors provided in the\n            trace, using `marker.colors`, are never extended.\n        extendsunburstcolors\n            If `true`, the sunburst slice colors (whether given by\n            `sunburstcolorway` or inherited from `colorway`) will\n            be extended to three times its original length by first\n            repeating every color 20% lighter then each color 20%\n            darker. This is intended to reduce the likelihood of\n            reusing the same color when you have many slices, but\n            you can set `false` to disable. Colors provided in the\n            trace, using `marker.colors`, are never extended.\n        extendtreemapcolors\n            If `true`, the treemap slice colors (whether given by\n            `treemapcolorway` or inherited from `colorway`) will be\n            extended to three times its original length by first\n            repeating every color 20% lighter then each color 20%\n            darker. This is intended to reduce the likelihood of\n            reusing the same color when you have many slices, but\n            you can set `false` to disable. Colors provided in the\n            trace, using `marker.colors`, are never extended.\n        font\n            Sets the global font. Note that fonts used in traces\n            and other layout components inherit from the global\n            font.\n        funnelareacolorway\n            Sets the default funnelarea slice colors. Defaults to\n            the main `colorway` used for trace colors. If you\n            specify a new list here it can still be extended with\n            lighter and darker colors, see\n            `extendfunnelareacolors`.\n        funnelgap\n            Sets the gap (in plot fraction) between bars of\n            adjacent location coordinates.\n        funnelgroupgap\n            Sets the gap (in plot fraction) between bars of the\n            same location coordinate.\n        funnelmode\n            Determines how bars at the same location coordinate are\n            displayed on the graph. With \"stack\", the bars are\n            stacked on top of one another With \"group\", the bars\n            are plotted next to one another centered around the\n            shared location. With \"overlay\", the bars are plotted\n            over one another, you might need to reduce \"opacity\" to\n            see multiple bars.\n        geo\n            :class:`plotly.graph_objects.layout.Geo` instance or\n            dict with compatible properties\n        grid\n            :class:`plotly.graph_objects.layout.Grid` instance or\n            dict with compatible properties\n        height\n            Sets the plot's height (in px).\n        hiddenlabels\n            hiddenlabels is the funnelarea & pie chart analog of\n            visible:'legendonly' but it can contain many labels,\n            and can simultaneously hide slices from several\n            pies/funnelarea charts\n        hiddenlabelssrc\n            Sets the source reference on Chart Studio Cloud for\n            `hiddenlabels`.\n        hidesources\n            Determines whether or not a text link citing the data\n            source is placed at the bottom-right cored of the\n            figure. Has only an effect only on graphs that have\n            been generated via forked graphs from the Chart Studio\n            Cloud (at https://chart-studio.plotly.com or on-\n            premise).\n        hoverdistance\n            Sets the default distance (in pixels) to look for data\n            to add hover labels (-1 means no cutoff, 0 means no\n            looking for data). This is only a real distance for\n            hovering on point-like objects, like scatter points.\n            For area-like objects (bars, scatter fills, etc)\n            hovering is on inside the area and off outside, but\n            these objects will not supersede hover on point-like\n            objects in case of conflict.\n        hoverlabel\n            :class:`plotly.graph_objects.layout.Hoverlabel`\n            instance or dict with compatible properties\n        hovermode\n            Determines the mode of hover interactions. If\n            \"closest\", a single hoverlabel will appear for the\n            \"closest\" point within the `hoverdistance`. If \"x\" (or\n            \"y\"), multiple hoverlabels will appear for multiple\n            points at the \"closest\" x- (or y-) coordinate within\n            the `hoverdistance`, with the caveat that no more than\n            one hoverlabel will appear per trace. If *x unified*\n            (or *y unified*), a single hoverlabel will appear\n            multiple points at the closest x- (or y-) coordinate\n            within the `hoverdistance` with the caveat that no more\n            than one hoverlabel will appear per trace. In this\n            mode, spikelines are enabled by default perpendicular\n            to the specified axis. If false, hover interactions are\n            disabled.\n        hoversubplots\n            Determines expansion of hover effects to other subplots\n            If \"single\" just the axis pair of the primary point is\n            included without overlaying subplots. If \"overlaying\"\n            all subplots using the main axis and occupying the same\n            space are included. If \"axis\", also include stacked\n            subplots using the same axis when `hovermode` is set to\n            \"x\", *x unified*, \"y\" or *y unified*.\n        iciclecolorway\n            Sets the default icicle slice colors. Defaults to the\n            main `colorway` used for trace colors. If you specify a\n            new list here it can still be extended with lighter and\n            darker colors, see `extendiciclecolors`.\n        images\n            A tuple of :class:`plotly.graph_objects.layout.Image`\n            instances or dicts with compatible properties\n        imagedefaults\n            When used in a template (as\n            layout.template.layout.imagedefaults), sets the default\n            property values to use for elements of layout.images\n        legend\n            :class:`plotly.graph_objects.layout.Legend` instance or\n            dict with compatible properties\n        map\n            :class:`plotly.graph_objects.layout.Map` instance or\n            dict with compatible properties\n        mapbox\n            :class:`plotly.graph_objects.layout.Mapbox` instance or\n            dict with compatible properties\n        margin\n            :class:`plotly.graph_objects.layout.Margin` instance or\n            dict with compatible properties\n        meta\n            Assigns extra meta information that can be used in\n            various `text` attributes. Attributes such as the\n            graph, axis and colorbar `title.text`, annotation\n            `text` `trace.name` in legend items, `rangeselector`,\n            `updatemenus` and `sliders` `label` text all support\n            `meta`. One can access `meta` fields using template\n            strings: `%{meta[i]}` where `i` is the index of the\n            `meta` item in question. `meta` can also be an object\n            for example `{key: value}` which can be accessed\n            %{meta[key]}.\n        metasrc\n            Sets the source reference on Chart Studio Cloud for\n            `meta`.\n        minreducedheight\n            Minimum height of the plot with margin.automargin\n            applied (in px)\n        minreducedwidth\n            Minimum width of the plot with margin.automargin\n            applied (in px)\n        modebar\n            :class:`plotly.graph_objects.layout.Modebar` instance\n            or dict with compatible properties\n        newselection\n            :class:`plotly.graph_objects.layout.Newselection`\n            instance or dict with compatible properties\n        newshape\n            :class:`plotly.graph_objects.layout.Newshape` instance\n            or dict with compatible properties\n        paper_bgcolor\n            Sets the background color of the paper where the graph\n            is drawn.\n        piecolorway\n            Sets the default pie slice colors. Defaults to the main\n            `colorway` used for trace colors. If you specify a new\n            list here it can still be extended with lighter and\n            darker colors, see `extendpiecolors`.\n        plot_bgcolor\n            Sets the background color of the plotting area in-\n            between x and y axes.\n        polar\n            :class:`plotly.graph_objects.layout.Polar` instance or\n            dict with compatible properties\n        scattergap\n            Sets the gap (in plot fraction) between scatter points\n            of adjacent location coordinates. Defaults to `bargap`.\n        scattermode\n            Determines how scatter points at the same location\n            coordinate are displayed on the graph. With \"group\",\n            the scatter points are plotted next to one another\n            centered around the shared location. With \"overlay\",\n            the scatter points are plotted over one another, you\n            might need to reduce \"opacity\" to see multiple scatter\n            points.\n        scene\n            :class:`plotly.graph_objects.layout.Scene` instance or\n            dict with compatible properties\n        selectdirection\n            When `dragmode` is set to \"select\", this limits the\n            selection of the drag to horizontal, vertical or\n            diagonal. \"h\" only allows horizontal selection, \"v\"\n            only vertical, \"d\" only diagonal and \"any\" sets no\n            limit.\n        selectionrevision\n            Controls persistence of user-driven changes in selected\n            points from all traces.\n        selections\n            A tuple of\n            :class:`plotly.graph_objects.layout.Selection`\n            instances or dicts with compatible properties\n        selectiondefaults\n            When used in a template (as\n            layout.template.layout.selectiondefaults), sets the\n            default property values to use for elements of\n            layout.selections\n        separators\n            Sets the decimal and thousand separators. For example,\n            *. * puts a '.' before decimals and a space between\n            thousands. In English locales, dflt is \".,\" but other\n            locales may alter this default.\n        shapes\n            A tuple of :class:`plotly.graph_objects.layout.Shape`\n            instances or dicts with compatible properties\n        shapedefaults\n            When used in a template (as\n            layout.template.layout.shapedefaults), sets the default\n            property values to use for elements of layout.shapes\n        showlegend\n            Determines whether or not a legend is drawn. Default is\n            `true` if there is a trace to show and any of these: a)\n            Two or more traces would by default be shown in the\n            legend. b) One pie trace is shown in the legend. c) One\n            trace is explicitly given with `showlegend: true`.\n        sliders\n            A tuple of :class:`plotly.graph_objects.layout.Slider`\n            instances or dicts with compatible properties\n        sliderdefaults\n            When used in a template (as\n            layout.template.layout.sliderdefaults), sets the\n            default property values to use for elements of\n            layout.sliders\n        smith\n            :class:`plotly.graph_objects.layout.Smith` instance or\n            dict with compatible properties\n        spikedistance\n            Sets the default distance (in pixels) to look for data\n            to draw spikelines to (-1 means no cutoff, 0 means no\n            looking for data). As with hoverdistance, distance does\n            not apply to area-like objects. In addition, some\n            objects can be hovered on but will not generate\n            spikelines, such as scatter fills.\n        sunburstcolorway\n            Sets the default sunburst slice colors. Defaults to the\n            main `colorway` used for trace colors. If you specify a\n            new list here it can still be extended with lighter and\n            darker colors, see `extendsunburstcolors`.\n        template\n            Default attributes to be applied to the plot. This\n            should be a dict with format: `{'layout':\n            layoutTemplate, 'data': {trace_type: [traceTemplate,\n            ...], ...}}` where `layoutTemplate` is a dict matching\n            the structure of `figure.layout` and `traceTemplate` is\n            a dict matching the structure of the trace with type\n            `trace_type` (e.g. 'scatter'). Alternatively, this may\n            be specified as an instance of\n            plotly.graph_objs.layout.Template.  Trace templates are\n            applied cyclically to traces of each type. Container\n            arrays (eg `annotations`) have special handling: An\n            object ending in `defaults` (eg `annotationdefaults`)\n            is applied to each array item. But if an item has a\n            `templateitemname` key we look in the template array\n            for an item with matching `name` and apply that\n            instead. If no matching `name` is found we mark the\n            item invisible. Any named template item not referenced\n            is appended to the end of the array, so this can be\n            used to add a watermark annotation or a logo image, for\n            example. To omit one of these items on the plot, make\n            an item with matching `templateitemname` and `visible:\n            false`.\n        ternary\n            :class:`plotly.graph_objects.layout.Ternary` instance\n            or dict with compatible properties\n        title\n            :class:`plotly.graph_objects.layout.Title` instance or\n            dict with compatible properties\n        transition\n            Sets transition options used during Plotly.react\n            updates.\n        treemapcolorway\n            Sets the default treemap slice colors. Defaults to the\n            main `colorway` used for trace colors. If you specify a\n            new list here it can still be extended with lighter and\n            darker colors, see `extendtreemapcolors`.\n        uirevision\n            Used to allow user interactions with the plot to\n            persist after `Plotly.react` calls that are unaware of\n            these interactions. If `uirevision` is omitted, or if\n            it is given and it changed from the previous\n            `Plotly.react` call, the exact new figure is used. If\n            `uirevision` is truthy and did NOT change, any\n            attribute that has been affected by user interactions\n            and did not receive a different value in the new figure\n            will keep the interaction value. `layout.uirevision`\n            attribute serves as the default for `uirevision`\n            attributes in various sub-containers. For finer control\n            you can set these sub-attributes directly. For example,\n            if your app separately controls the data on the x and y\n            axes you might set `xaxis.uirevision=*time*` and\n            `yaxis.uirevision=*cost*`. Then if only the y data is\n            changed, you can update `yaxis.uirevision=*quantity*`\n            and the y axis range will reset but the x axis range\n            will retain any user-driven zoom.\n        uniformtext\n            :class:`plotly.graph_objects.layout.Uniformtext`\n            instance or dict with compatible properties\n        updatemenus\n            A tuple of\n            :class:`plotly.graph_objects.layout.Updatemenu`\n            instances or dicts with compatible properties\n        updatemenudefaults\n            When used in a template (as\n            layout.template.layout.updatemenudefaults), sets the\n            default property values to use for elements of\n            layout.updatemenus\n        violingap\n            Sets the gap (in plot fraction) between violins of\n            adjacent location coordinates. Has no effect on traces\n            that have \"width\" set.\n        violingroupgap\n            Sets the gap (in plot fraction) between violins of the\n            same location coordinate. Has no effect on traces that\n            have \"width\" set.\n        violinmode\n            Determines how violins at the same location coordinate\n            are displayed on the graph. If \"group\", the violins are\n            plotted next to one another centered around the shared\n            location. If \"overlay\", the violins are plotted over\n            one another, you might need to set \"opacity\" to see\n            them multiple violins. Has no effect on traces that\n            have \"width\" set.\n        waterfallgap\n            Sets the gap (in plot fraction) between bars of\n            adjacent location coordinates.\n        waterfallgroupgap\n            Sets the gap (in plot fraction) between bars of the\n            same location coordinate.\n        waterfallmode\n            Determines how bars at the same location coordinate are\n            displayed on the graph. With \"group\", the bars are\n            plotted next to one another centered around the shared\n            location. With \"overlay\", the bars are plotted over one\n            another, you might need to reduce \"opacity\" to see\n            multiple bars.\n        width\n            Sets the plot's width (in px).\n        xaxis\n            :class:`plotly.graph_objects.layout.XAxis` instance or\n            dict with compatible properties\n        yaxis\n            :class:`plotly.graph_objects.layout.YAxis` instance or\n            dict with compatible properties\n        \nDid you mean \"title\"?\n\nBad property path:\ntitlefont_size\n^^^^^^^^^"
     ]
    }
   ],
   "source": [
    "import plotly.graph_objects as go\n",
    "import networkx as nx\n",
    "import numpy as np\n",
    "\n",
    "def plot_interactive_network(G):\n",
    "    pos = nx.spring_layout(G, seed=42)\n",
    "    \n",
    "    # Create edge traces\n",
    "    edge_traces = []\n",
    "    for edge in G.edges(data=True):\n",
    "        x0, y0 = pos[edge[0]]\n",
    "        x1, y1 = pos[edge[1]]\n",
    "        weight = edge[2].get('weight', 0)\n",
    "        \n",
    "        edge_trace = go.Scatter(\n",
    "            x=[x0, x1, None], y=[y0, y1, None],\n",
    "            line=dict(width=1, color='gray'),\n",
    "            hoverinfo='text',\n",
    "            text=f'Weight: {weight:.2f}',\n",
    "            mode='lines')\n",
    "        edge_traces.append(edge_trace)\n",
    "    \n",
    "    # Create node trace\n",
    "    node_trace = go.Scatter(\n",
    "        x=[pos[node][0] for node in G.nodes()],\n",
    "        y=[pos[node][1] for node in G.nodes()],\n",
    "        mode='markers+text',\n",
    "        text=list(G.nodes()),\n",
    "        textposition=\"top center\",\n",
    "        hoverinfo='text',\n",
    "        marker=dict(\n",
    "            showscale=True,\n",
    "            colorscale='Blues',\n",
    "            color=[len(list(G.neighbors(node))) for node in G.nodes()],\n",
    "            size=15,\n",
    "            colorbar=dict(\n",
    "                thickness=15,\n",
    "                title='Node Connections',\n",
    "                xanchor='left',\n",
    "                \n",
    "            )\n",
    "        )\n",
    "    )\n",
    "    \n",
    "    # Create the figure\n",
    "    fig = go.Figure(data=edge_traces + [node_trace],\n",
    "                   layout=go.Layout(\n",
    "                       title='Interactive Network Graph',\n",
    "                       titlefont_size=16,\n",
    "                       showlegend=False,\n",
    "                       hovermode='closest',\n",
    "                       margin=dict(b=20,l=5,r=5,t=40),\n",
    "                       xaxis=dict(showgrid=False, zeroline=False, showticklabels=False),\n",
    "                       yaxis=dict(showgrid=False, zeroline=False, showticklabels=False))\n",
    "                   )\n",
    "    \n",
    "    return fig\n",
    "\n",
    "# Create and display the interactive graph\n",
    "fig = plot_interactive_network(G)\n",
    "fig.show()"
   ]
  },
  {
   "cell_type": "code",
   "execution_count": 8,
   "metadata": {},
   "outputs": [
    {
     "data": {
      "text/plain": [
       "{'shared_attributes': set(),\n",
       " 'sa_ratio': 0.0,\n",
       " 'agl_ratio': 0.0,\n",
       " 'sim_ratio': np.float64(0.2593732896364398),\n",
       " 'similarity_matrix': array([[ 0.02613065,  0.05927958,  0.15092869,  0.1934218 ,  0.10780906,\n",
       "          0.13202676,  0.11535592,  0.07774786, -0.00656554],\n",
       "        [ 0.06320973,  0.08740117,  0.15484482, -0.00352021,  0.37269282,\n",
       "          0.10039064,  0.18418115,  0.08402253,  0.04077985],\n",
       "        [ 0.18980312,  0.15037581,  0.04927186,  0.02290079, -0.01079234,\n",
       "          0.07504315,  0.09190354,  0.2638616 ,  0.01170703],\n",
       "        [ 0.03929371,  0.1414351 ,  0.0646834 ,  0.11067294, -0.00505657,\n",
       "          0.06234156,  0.20868526,  0.09453705, -0.03387411],\n",
       "        [ 0.13877037,  0.09190246,  0.10446048,  0.10370044,  0.06663609,\n",
       "          0.27991411,  0.19723248,  0.12273016,  0.03503696],\n",
       "        [ 0.03273351,  0.11073162,  0.17701663,  0.1243125 , -0.01406017,\n",
       "          0.07169755,  0.161164  ,  0.09451094,  0.04748832],\n",
       "        [ 0.07620633,  0.10880881,  0.12731716,  0.17252925,  0.18162513,\n",
       "          0.21403335,  0.15287018,  0.11585689, -0.02680763],\n",
       "        [-0.01042276,  0.08667327,  0.09249339,  0.05870135,  0.12606323,\n",
       "          0.08164298,  0.20721829,  0.07290412,  0.08268543],\n",
       "        [ 0.02520201,  0.13505292,  0.06812486,  0.14011689, -0.02713298,\n",
       "          0.04941458,  0.15161955,  0.0781603 , -0.0379799 ],\n",
       "        [ 0.11904259,  0.11300216,  0.09497551,  0.06214139,  0.2172842 ,\n",
       "          0.05190871,  0.56886888,  0.17369148, -0.04313604],\n",
       "        [ 0.06752148,  0.09647195,  0.25844318,  0.19377163,  0.12958829,\n",
       "          0.1796592 ,  0.17996337,  0.10802458,  0.02565685],\n",
       "        [ 0.14979061,  0.07507496,  0.04959364, -0.02393121,  0.18196137,\n",
       "          0.02639461,  0.05899309,  0.11249813,  0.05426442]])}"
      ]
     },
     "execution_count": 8,
     "metadata": {},
     "output_type": "execute_result"
    }
   ],
   "source": [
    "details"
   ]
  },
  {
   "cell_type": "markdown",
   "metadata": {},
   "source": [
    "### Abstractive summarization"
   ]
  },
  {
   "cell_type": "code",
   "execution_count": 1,
   "metadata": {},
   "outputs": [
    {
     "name": "stderr",
     "output_type": "stream",
     "text": [
      "/home/saikiranbattula/Documents/Multi-ChartQA/.multi_chart/lib/python3.10/site-packages/tqdm/auto.py:21: TqdmWarning: IProgress not found. Please update jupyter and ipywidgets. See https://ipywidgets.readthedocs.io/en/stable/user_install.html\n",
      "  from .autonotebook import tqdm as notebook_tqdm\n"
     ]
    }
   ],
   "source": [
    "from transformers import T5ForConditionalGeneration, T5Tokenizer"
   ]
  },
  {
   "cell_type": "code",
   "execution_count": 2,
   "metadata": {},
   "outputs": [
    {
     "name": "stderr",
     "output_type": "stream",
     "text": [
      "You are using the default legacy behaviour of the <class 'transformers.models.t5.tokenization_t5.T5Tokenizer'>. This is expected, and simply means that the `legacy` (previous) behavior will be used so nothing changes for you. If you want to use the new behaviour, set `legacy=False`. This should only be set if you understand what it means, and thoroughly read the reason why this was added as explained in https://github.com/huggingface/transformers/pull/24565\n"
     ]
    }
   ],
   "source": [
    "model = T5ForConditionalGeneration.from_pretrained(\"t5-small\")\n",
    "tokenizer = T5Tokenizer.from_pretrained(\"t5-small\")"
   ]
  },
  {
   "cell_type": "code",
   "execution_count": 12,
   "metadata": {},
   "outputs": [],
   "source": [
    "inputs = tokenizer(\"summarize: \" + combined_summary, return_tensors=\"pt\", max_length=512, truncation=True)"
   ]
  },
  {
   "cell_type": "code",
   "execution_count": 28,
   "metadata": {},
   "outputs": [],
   "source": [
    "output = model.generate(inputs[\"input_ids\"], max_length=400, min_length=30, length_penalty=1.0, num_beams=4, early_stopping=True)"
   ]
  },
  {
   "cell_type": "code",
   "execution_count": 29,
   "metadata": {},
   "outputs": [
    {
     "data": {
      "text/plain": [
       "tensor([[    0,     8,   420,  1375,    56,   992,    30,     8, 12674,    32,\n",
       "         10804,   447,   331,  1918,  2847,   357,  6145,    11,  5431,  2912,\n",
       "           640,  4040,    13,   203,     3,     5,     8,  2007,  1375,    56,\n",
       "         25086,     8,   827,  5962, 13911,    45,   315,  2896,    16,  1881,\n",
       "             9,  8921,   965,     3,     5,     1]])"
      ]
     },
     "execution_count": 29,
     "metadata": {},
     "output_type": "execute_result"
    }
   ],
   "source": [
    "output"
   ]
  },
  {
   "cell_type": "code",
   "execution_count": 34,
   "metadata": {},
   "outputs": [
    {
     "name": "stderr",
     "output_type": "stream",
     "text": [
      "Device set to use cuda:0\n"
     ]
    }
   ],
   "source": [
    "from transformers import pipeline\n",
    "\n",
    "summarizer = pipeline(\"summarization\", model=\"t5-large\")"
   ]
  },
  {
   "cell_type": "code",
   "execution_count": 35,
   "metadata": {},
   "outputs": [
    {
     "name": "stdout",
     "output_type": "stream",
     "text": [
      "[{'summary_text': 'the top section will focus on the paleoclimatic data regarding CO2 concentration and ocean temperature across millions of years . the bottom section will visualize the energy consumption scenarios from different technologies in exajoules . this dual-layered chart will facilitate a comprehensive understanding of historical climate trends in relation to the future energy landscape .'}]\n"
     ]
    }
   ],
   "source": [
    "print(summarizer(combined_summary, max_length=400, min_length=30, do_sample=False))"
   ]
  }
 ],
 "metadata": {
  "kernelspec": {
   "display_name": ".multi_chart",
   "language": "python",
   "name": "python3"
  },
  "language_info": {
   "codemirror_mode": {
    "name": "ipython",
    "version": 3
   },
   "file_extension": ".py",
   "mimetype": "text/x-python",
   "name": "python",
   "nbconvert_exporter": "python",
   "pygments_lexer": "ipython3",
   "version": "3.10.12"
  }
 },
 "nbformat": 4,
 "nbformat_minor": 2
}
