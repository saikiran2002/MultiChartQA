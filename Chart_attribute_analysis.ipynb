{
 "cells": [
  {
   "cell_type": "markdown",
   "metadata": {},
   "source": [
    "Prompt Engineering:\n",
    "\n",
    "1. Give a persona\n",
    "2. Split complex tasks into small tasks\n",
    "3. Give it in steps and make sure to keep further steps or describe the context.\n",
    "4. Give models time to think:\n",
    "    Example: First work out your own solution to the problem. Then compare your solution\n",
    "    "
   ]
  },
  {
   "cell_type": "code",
   "execution_count": 3,
   "metadata": {},
   "outputs": [],
   "source": [
    "import base64\n",
    "import pandas as pd\n",
    "\n",
    "df = pd.read_excel(\"ChartswithCaptions.xlsx\")\n",
    "\n",
    "def encode_image(image_path):\n",
    "\n",
    "    caption = df[df[\"imageid\"]==int(image_path.split(\"/\")[1].split(\".\")[0])][\"full_caption\"].values[0]\n",
    "\n",
    "    with open(image_path, \"rb\") as image_file:\n",
    "        return base64.b64encode(image_file.read()).decode(\"utf-8\"), caption\n",
    "    \n",
    "\n",
    "# image_2130, caption_2130 = encode_image(\"Charts/2130.png\")\n",
    "# image_2107, caption_2107 = encode_image(\"Charts/2107.png\")\n",
    "image_2065, caption_2065 = encode_image(\"Charts/2065.png\")"
   ]
  },
  {
   "cell_type": "code",
   "execution_count": 4,
   "metadata": {},
   "outputs": [
    {
     "data": {
      "text/plain": [
       "\"Figure 3.35: Deployment of primary energy technologies across post-2001 \\nscenarios by 2030 and 2100: Left-side 'error' bars show baseline (non-intervention) \\nscenarios and right-side ones show intervention and stabilization scenarios. The full \\nranges of the distributions (full vertical line with two extreme tic marks), the 25th and \\n75th percentiles (blue area) and the median (middle tic mark) are also shown.\""
      ]
     },
     "execution_count": 4,
     "metadata": {},
     "output_type": "execute_result"
    }
   ],
   "source": [
    "caption_2065"
   ]
  },
  {
   "cell_type": "code",
   "execution_count": 5,
   "metadata": {},
   "outputs": [],
   "source": [
    "system_prompt = \"\"\"\n",
    "You are GPT-4o-mini, a reasoning model specialized in analyzing charts and their captions. Your task is to carefully examine the provided chart and caption, then clearly identify and list the attributes used in the chart.\n",
    "\n",
    "When presented with a chart and its caption:\n",
    "    1. Carefully inspect the chart provided.\n",
    "    2. **Let's think step-by-step.** First, carefully inspect the provided chart and caption. Identify and list all attributes used in the chart. \n",
    "    3. **Briefly explain** how each attribute is represented or visualized in the chart (e.g., axis labels, legends, colors, data points).\n",
    "    4. **Clearly separate** your response into two sections:\n",
    "        a. \"**Identified Attributes:**\" (list attributes succinctly)\n",
    "        b. \"**Visualization Explanation:**\" (briefly describe how each attribute is visualized)\n",
    "    5. **Clearly summarize** the specific chart variables used (e.g., x-axis, y-axis, legend, color encoding) separately at the end of your response.\n",
    "\n",
    "Important instructions for optimal performance:\n",
    "\n",
    "1. Be concise and direct in your analysis.\n",
    "2. Do not include unnecessary examples or additional context beyond what is provided.\n",
    "3. Do not generate or assume any information not explicitly present in the provided chart and caption.\n",
    "4. Leverage your internal chain-of-thought reasoning capability without explicit prompting for step-by-step reasoning.\n",
    "5. Ensure your output is accurate, consistent, and directly based on the provided data only.\n",
    "\"\"\""
   ]
  },
  {
   "cell_type": "code",
   "execution_count": 6,
   "metadata": {},
   "outputs": [],
   "source": [
    "from openai import OpenAI\n",
    "import os\n",
    "\n",
    "client = OpenAI(api_key=os.environ[\"OPENAI_API_KEY\"])\n",
    "\n",
    "response = client.chat.completions.create(\n",
    "    model=\"gpt-4o-mini\",\n",
    "    messages=[\n",
    "        {\"role\": \"system\", \"content\": system_prompt},\n",
    "        {\n",
    "            \"role\": \"user\",\n",
    "            \"content\": [\n",
    "                {\"type\": \"text\", \"text\": f\"Here is the caption for the image: {caption_2065}\"},\n",
    "                {\n",
    "                    \"type\": \"image_url\",\n",
    "                    \"image_url\": {\n",
    "                        \"url\": f\"data:image/png;base64,{image_2065}\"\n",
    "                    }\n",
    "                }\n",
    "            ],\n",
    "        }\n",
    "    ]\n",
    ")\n",
    "chart_2065 = response.choices[0].message.content"
   ]
  },
  {
   "cell_type": "code",
   "execution_count": 7,
   "metadata": {},
   "outputs": [
    {
     "name": "stdout",
     "output_type": "stream",
     "text": [
      "### Identified Attributes:\n",
      "1. **Categories of Energy Technologies**: Coal, Gas, Oil, Nuclear, Biomass (with distinctions for baseline (B) and stabilization (S) scenarios).\n",
      "2. **Years**: 2030 (top chart) and 2100 (bottom chart).\n",
      "3. **Energy Units**: Exajoules (EJ).\n",
      "4. **Error Bars**: Baseline (non-intervention) and intervention/stabilization scenarios.\n",
      "5. **Statistical Measures**: Full range (vertical lines), 25th and 75th percentiles (blue area), and median (middle tic mark) for each category.\n",
      "\n",
      "### Visualization Explanation:\n",
      "1. **Categories of Energy Technologies**: Represented on the x-axis with labels for each technology, indicating both baseline and stabilization scenarios.\n",
      "2. **Years**: The two separate charts clearly label the years (2030 and 2100) at the top of each section.\n",
      "3. **Energy Units**: The y-axis is labeled \"EJ\" (Exajoules), representing the amount of energy.\n",
      "4. **Error Bars**: Left-side error bars indicate baseline scenarios, while right-side bars represent intervention scenarios; these visually differentiate the two.\n",
      "5. **Statistical Measures**: The full ranges of energy distributions are shown as vertical lines with tic marks at the extremes, the interquartile range (25th to 75th percentiles) is shaded in blue, and the median is indicated by a distinct middle tic mark on each box plot.\n",
      "\n",
      "### Summary of Chart Variables:\n",
      "- **X-Axis**: Categories of energy technologies (e.g., Coal, Gas, Oil).\n",
      "- **Y-Axis**: Energy values in Exajoules (EJ).\n",
      "- **Years**: Two sections for 2030 and 2100.\n",
      "- **Legend/Key**: Shown through variable error bars and distribution presentations (box plots).\n",
      "- **Statistical representation**: Full distribution range, interquartile range, and median.\n"
     ]
    }
   ],
   "source": [
    "print(chart_2065)"
   ]
  },
  {
   "cell_type": "code",
   "execution_count": 8,
   "metadata": {},
   "outputs": [],
   "source": [
    "image_2064, caption_2064 = encode_image(\"Charts/2064.png\")\n",
    "response = client.chat.completions.create(\n",
    "    model=\"gpt-4o-mini\",\n",
    "    messages=[\n",
    "        {\"role\": \"system\", \"content\": system_prompt},\n",
    "        {\n",
    "            \"role\": \"user\",\n",
    "            \"content\": [\n",
    "                {\"type\": \"text\", \"text\": f\"Here is the caption for the image: {caption_2064}\"},\n",
    "                {\n",
    "                    \"type\": \"image_url\",\n",
    "                    \"image_url\": {\n",
    "                        \"url\": f\"data:image/png;base64,{image_2064}\"\n",
    "                    }\n",
    "                }\n",
    "            ],\n",
    "        }\n",
    "    ]\n",
    ")\n",
    "chart_2064 = response.choices[0].message.content"
   ]
  },
  {
   "cell_type": "code",
   "execution_count": 9,
   "metadata": {},
   "outputs": [
    {
     "name": "stdout",
     "output_type": "stream",
     "text": [
      "**Identified Attributes:**\n",
      "\n",
      "1. **Time (Ma)** - Horizontal axis across all sections.\n",
      "2. **Atmospheric CO2 (ppm)** - Vertical axis in the top and bottom sections.\n",
      "3. **Continental glaciation (° palaeolatitude)** - Secondary vertical axis in the top section.\n",
      "4. **Deep Ocean Temperature (°C)** - Vertical axis in the middle section.\n",
      "5. **CO2 Proxies** - Various lines/bars representing different methods (e.g., Stomata, Phytoplankton, Boron).\n",
      "6. **Geochemical Models** - Area representing plausible ranges of CO2 based on models (e.g., GEOCARB III).\n",
      "7. **Isotope Values (‰ 18O)** - Vertical axis in the middle section, represented by line data points.\n",
      "8. **Data layers** - Different colored sections in the plots indicating ranges, averages, or types of data.\n",
      "\n",
      "**Visualization Explanation:**\n",
      "\n",
      "1. **Time (Ma)** - Represented on the horizontal axis, spanning from 400 million years ago to the present.\n",
      "2. **Atmospheric CO2 (ppm)** - Displayed on the vertical axis in both the top and bottom sections with line plots showing CO2 levels across time.\n",
      "3. **Continental glaciation (° palaeolatitude)** - Shown as vertical blue bars on the right side of the top section, indicating ice sheet extents at various times.\n",
      "4. **Deep Ocean Temperature (°C)** - Presented with a dark line plot, indicating temperature changes over the same time frame.\n",
      "5. **CO2 Proxies** - Illustrated with distinct colored lines/bars for each method (Stomata, Phytoplankton, Boron) across the top and bottom sections.\n",
      "6. **Geochemical Models** - Plotted as shaded areas and lines overlaid in the top and bottom sections, depicting model predictions of CO2 levels.\n",
      "7. **Isotope Values (‰ 18O)** - Indicated by a black line and data points in the middle section, reflecting changes in isotope values corresponding to glaciation.\n",
      "8. **Data layers** - Visualized through a combination of colors and shaded areas in the plots, representing variability and confidence in the data.\n",
      "\n",
      "**Summary of Chart Variables:**\n",
      "\n",
      "- **X-Axis:** Time (Ma)\n",
      "- **Y-Axis (Top):** Atmospheric CO2 (ppm) and continental glaciation (° palaeolatitude)\n",
      "- **Y-Axis (Middle):** Deep Ocean Temperature (°C) and isotope values (‰ 18O)\n",
      "- **Y-Axis (Bottom):** Atmospheric CO2 (ppm)\n",
      "- **Legend/Colors:** Different colors represent various CO2 proxy methods and geochemical models.\n"
     ]
    }
   ],
   "source": [
    "print(chart_2064)"
   ]
  },
  {
   "cell_type": "code",
   "execution_count": 13,
   "metadata": {},
   "outputs": [],
   "source": [
    "bridging_gpt_system_prompt = \"\"\"\n",
    "You are a Bridging GPT responsible for generating meaningful questions based on synthesized attributes from two charts.\n",
    "\n",
    "Given the attributes of Chart A and Chart B, \n",
    "Both the charts contain \"Identified Attributes\", \"Visualization Explanation\", and \"Summary of Chart Variables\"\n",
    "\n",
    "1. Analyze the relationships between the attributes of Chart A and Chart B.\n",
    "2. Generate insightful questions and also answers for them that explore:\n",
    "   - Comparisons between the two charts.\n",
    "   - Trends, patterns, or correlations suggested by their attributes.\n",
    "   - Real-world implications or hypotheses based on their common attributes (if applicable).\n",
    "\n",
    "Structure your response as follows:\n",
    "\n",
    "## Generated Questions and Answers:\n",
    "- [List meaningful questions here]\n",
    "- [List corresponding answers here]\n",
    "\n",
    "Be creative, logical, and ensure that your questions are relevant to the provided attributes and their relationships.\n",
    "\"\"\""
   ]
  },
  {
   "cell_type": "code",
   "execution_count": 14,
   "metadata": {},
   "outputs": [
    {
     "name": "stdout",
     "output_type": "stream",
     "text": [
      "## Generated Questions and Answers:\n",
      "\n",
      "1. **Question:** How do the trends in atmospheric CO2 levels represented in Chart A compare to the projected energy outputs for fossil fuels in Chart B for the years 2030 and 2100?\n",
      "   **Answer:** Chart A shows a historical rise in atmospheric CO2 levels, particularly correlating with periods of industrialization. In contrast, Chart B projects significant energy outputs from fossil fuel technologies (Coal, Gas, Oil) for both 2030 and 2100, which is likely to further exacerbate CO2 emissions if no stabilization interventions are applied. As such, increased reliance on fossil fuels directly correlates with rising CO2 levels, signifying a concerning trend for climate change.\n",
      "\n",
      "2. **Question:** What potential implications might the increase in deep ocean temperatures shown in Chart A have on the energy technology adoption patterns depicted in Chart B?\n",
      "   **Answer:** The increase in deep ocean temperatures highlighted in Chart A suggests a rising trend in global climate change effects. This may lead to a greater push toward adopting cleaner energy technologies represented in Chart B as societies try to mitigate climate change impacts. Consequently, we might see a shift in investments toward renewables instead of traditional fossil fuels, especially under intervention/stabilization scenarios.\n",
      "\n",
      "3. **Question:** Are there any correlations between the CO2 proxies used in Chart A and the energy technology scenarios in Chart B, particularly regarding historical versus future projections?\n",
      "   **Answer:** Yes, the CO2 proxies in Chart A (such as Stomata and Phytoplankton) indicate historical ecological responses based on atmospheric CO2 levels, which have been influenced heavily by the burning of fossil fuels. As Chart B projects increased energy outputs from these fossil fuel sources, it suggests that similar ecological responses or proxies will be invoked in future studies if these trends continue, potentially leading to drastic changes in biodiversity and ecological balance.\n",
      "\n",
      "4. **Question:** Considering both charts, what environmental policies could be proposed to bridge the gap between rising CO2 levels in the past and the future energy scenarios of Chart B?\n",
      "   **Answer:** To bridge the gap, policies could include robust carbon pricing mechanisms to reflect the true cost of CO2 emissions, investment incentives for renewable energy technologies, and commitments to phase out fossil fuel subsidies. Transitioning to baseline and stabilization scenarios in Chart B would necessitate coordinated global efforts in policy-making to reduce reliance on fossil fuels and curb CO2 emissions, as indicated by historical and projected data trends in Chart A.\n",
      "\n",
      "5. **Question:** How might the results from the geochemical models in Chart A inform future energy strategies depicted in Chart B concerning climate change?\n",
      "   **Answer:** The geochemical models suggest plausible ranges of CO2 that could be mitigated with changes in energy strategies. If the projected outputs from fossil fuels in Chart B are connected with these historical models, it might be advisable to implement energy strategies that minimize CO2 emissions significantly. Models forecasting higher CO2 levels due to fossil fuel use signal an urgent need for a transition to renewable energy sources to avoid surpassing critical climate thresholds, informing strategic energy planning.\n",
      "\n",
      "6. **Question:** Given the historical context in Chart A, how might the time intervals presented affect the urgency of actions required as we approach the years 2030 and 2100 shown in Chart B?\n",
      "   **Answer:** Historical data showing a dramatic rise in atmospheric CO2 levels emphasizes the urgency of taking immediate action now, rather than waiting until 2030 or 2100. Delays in addressing CO2 emissions and energy technology transitions may result in irreversible climate impacts. The proximity of 2030 and 2100, along with rising trends in Chart A, indicates an urgent need for substantial interventions in energy strategies to ensure environmental stability and sustainability.\n"
     ]
    }
   ],
   "source": [
    "response = client.chat.completions.create(\n",
    "    model=\"gpt-4o-mini\",\n",
    "    messages=[\n",
    "        {\"role\": \"system\", \"content\": bridging_gpt_system_prompt},\n",
    "        {\n",
    "            \"role\": \"user\",\n",
    "            \"content\": [\n",
    "                {\"type\": \"text\", \"text\": f\"Here is the synthesis of chart A: {chart_2064} and chart B: {chart_2065}\"}\n",
    "            ],\n",
    "        }\n",
    "    ]\n",
    ")\n",
    "print(response.choices[0].message.content)"
   ]
  },
  {
   "cell_type": "code",
   "execution_count": null,
   "metadata": {},
   "outputs": [],
   "source": []
  }
 ],
 "metadata": {
  "kernelspec": {
   "display_name": ".multi_chart",
   "language": "python",
   "name": "python3"
  },
  "language_info": {
   "codemirror_mode": {
    "name": "ipython",
    "version": 3
   },
   "file_extension": ".py",
   "mimetype": "text/x-python",
   "name": "python",
   "nbconvert_exporter": "python",
   "pygments_lexer": "ipython3",
   "version": "3.10.12"
  }
 },
 "nbformat": 4,
 "nbformat_minor": 2
}
